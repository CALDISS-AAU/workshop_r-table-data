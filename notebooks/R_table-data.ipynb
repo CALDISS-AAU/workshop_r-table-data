{
 "cells": [
  {
   "cell_type": "markdown",
   "metadata": {
    "slideshow": {
     "slide_type": "slide"
    }
   },
   "source": [
    "# <center>WORKING WITH TABLE DATA WITH R</center>\n",
    "<img src=\"../elem/caldiss_symbol_square.png\" width=\"200\">\n",
    "\n",
    "\n",
    "<i><center>Kristian Gade Kjelmann</center></i>\n",
    "<i><center>March 5th 2020</center><i>"
   ]
  },
  {
   "cell_type": "markdown",
   "metadata": {},
   "source": [
    "## Disposition\n",
    "\n",
    "- Indlæs og udforsk tabeldata\n",
    "- Subsetting\n",
    "- Summary statistics\n",
    "- R til datahåndtering - dplyr/tidyverse\n",
    "    - Rekodningsbasics\n",
    "    - Filter og selekter\n",
    "- Numeriske variable\n",
    "- Tekst variable\n",
    "- Kategoriske variable"
   ]
  },
  {
   "cell_type": "code",
   "execution_count": 26,
   "metadata": {},
   "outputs": [
    {
     "name": "stderr",
     "output_type": "stream",
     "text": [
      "Parsed with column specification:\n",
      "cols(\n",
      "  idno = \u001b[32mcol_double()\u001b[39m,\n",
      "  ppltrst = \u001b[31mcol_character()\u001b[39m,\n",
      "  polintr = \u001b[31mcol_character()\u001b[39m,\n",
      "  vote = \u001b[31mcol_character()\u001b[39m,\n",
      "  lrscale = \u001b[31mcol_character()\u001b[39m,\n",
      "  happy = \u001b[31mcol_character()\u001b[39m,\n",
      "  health = \u001b[31mcol_character()\u001b[39m,\n",
      "  cgtsday = \u001b[32mcol_double()\u001b[39m,\n",
      "  cgtsmke = \u001b[31mcol_character()\u001b[39m,\n",
      "  alcfreq = \u001b[31mcol_character()\u001b[39m,\n",
      "  brncntr = \u001b[31mcol_character()\u001b[39m,\n",
      "  height = \u001b[32mcol_double()\u001b[39m,\n",
      "  weight = \u001b[32mcol_double()\u001b[39m,\n",
      "  gndr = \u001b[31mcol_character()\u001b[39m,\n",
      "  yrbrn = \u001b[32mcol_double()\u001b[39m,\n",
      "  edlvddk = \u001b[31mcol_character()\u001b[39m,\n",
      "  marsts = \u001b[31mcol_character()\u001b[39m,\n",
      "  polpartvt = \u001b[31mcol_character()\u001b[39m\n",
      ")\n",
      "\n"
     ]
    }
   ],
   "source": [
    "library(readr)\n",
    "\n",
    "ess_data <- read_csv(\"https://github.com/CALDISS-AAU/workshop_r-table-data/raw/master/data/ess2014_mainsub_p1.csv\")"
   ]
  },
  {
   "cell_type": "code",
   "execution_count": 27,
   "metadata": {},
   "outputs": [
    {
     "data": {
      "text/html": [
       "<table>\n",
       "<caption>A tibble: 6 × 18</caption>\n",
       "<thead>\n",
       "\t<tr><th scope=col>idno</th><th scope=col>ppltrst</th><th scope=col>polintr</th><th scope=col>vote</th><th scope=col>lrscale</th><th scope=col>happy</th><th scope=col>health</th><th scope=col>cgtsday</th><th scope=col>cgtsmke</th><th scope=col>alcfreq</th><th scope=col>brncntr</th><th scope=col>height</th><th scope=col>weight</th><th scope=col>gndr</th><th scope=col>yrbrn</th><th scope=col>edlvddk</th><th scope=col>marsts</th><th scope=col>polpartvt</th></tr>\n",
       "\t<tr><th scope=col>&lt;dbl&gt;</th><th scope=col>&lt;chr&gt;</th><th scope=col>&lt;chr&gt;</th><th scope=col>&lt;chr&gt;</th><th scope=col>&lt;chr&gt;</th><th scope=col>&lt;chr&gt;</th><th scope=col>&lt;chr&gt;</th><th scope=col>&lt;dbl&gt;</th><th scope=col>&lt;chr&gt;</th><th scope=col>&lt;chr&gt;</th><th scope=col>&lt;chr&gt;</th><th scope=col>&lt;dbl&gt;</th><th scope=col>&lt;dbl&gt;</th><th scope=col>&lt;chr&gt;</th><th scope=col>&lt;dbl&gt;</th><th scope=col>&lt;chr&gt;</th><th scope=col>&lt;chr&gt;</th><th scope=col>&lt;chr&gt;</th></tr>\n",
       "</thead>\n",
       "<tbody>\n",
       "\t<tr><td>921018</td><td>6</td><td>Hardly interested</td><td>Not eligible to vote</td><td>4</td><td>9</td><td>Very good</td><td>10</td><td>I smoke but not every day      </td><td>2-3 times a month   </td><td>Yes</td><td>178</td><td> 64</td><td>Male  </td><td>1990</td><td>Folkeskole 6.-8. klasse                                                       </td><td>None of these (NEVER married or in legally registered civil union)</td><td>[NA] Not applicable                                   </td></tr>\n",
       "\t<tr><td>921026</td><td>8</td><td>Quite interested </td><td>Yes                 </td><td>4</td><td>8</td><td>Very good</td><td>NA</td><td>I have never smoked            </td><td>Several times a week</td><td>Yes</td><td>172</td><td> 64</td><td>Female</td><td>1948</td><td>Mellemlang videregående uddannelse af 3-4 års varighed. Professionsbachelorer,</td><td>Widowed/civil partner died                                        </td><td>[1] Socialdemokraterne - the Danish social democrats  </td></tr>\n",
       "\t<tr><td>921034</td><td>8</td><td>Quite interested </td><td>Yes                 </td><td>7</td><td>8</td><td>Good     </td><td>NA</td><td>I don't smoke now but I used to</td><td>Every day           </td><td>Yes</td><td>176</td><td> 87</td><td>Male  </td><td>1957</td><td>Kort videregående uddannelse af op til 2-3 års varighed, F.eks. Erhvervsakadem</td><td>Not applicable                                                    </td><td>[7] Venstre, Danmarks Liberale Parti - Venstre        </td></tr>\n",
       "\t<tr><td>921181</td><td>9</td><td>Quite interested </td><td>Yes                 </td><td>5</td><td>9</td><td>Fair     </td><td>NA</td><td>I don't smoke now but I used to</td><td>Once a week         </td><td>Yes</td><td>194</td><td>102</td><td>Male  </td><td>1956</td><td>Faglig uddannelse (håndværk, handel, landbrug mv.), F.eks. Faglærte, Social-  </td><td>Not applicable                                                    </td><td>[2] Det Radikale Venstre - Danish Social-Liberal Party</td></tr>\n",
       "\t<tr><td>921204</td><td>9</td><td>Hardly interested</td><td>Yes                 </td><td>7</td><td>8</td><td>Good     </td><td>NA</td><td>I don't smoke now but I used to</td><td>Once a week         </td><td>No </td><td>157</td><td> 48</td><td>Female</td><td>1941</td><td>Kort videregående uddannelse af op til 2-3 års varighed, F.eks. Erhvervsakadem</td><td>Not applicable                                                    </td><td>[NA] Don't know                                       </td></tr>\n",
       "\t<tr><td>921262</td><td>8</td><td>Hardly interested</td><td>Yes                 </td><td>7</td><td>8</td><td>Very good</td><td>NA</td><td>I have never smoked            </td><td>2-3 times a month   </td><td>Yes</td><td>180</td><td> 93</td><td>Male  </td><td>1987</td><td>Mellemlang videregående uddannelse af 3-4 års varighed. Professionsbachelorer,</td><td>None of these (NEVER married or in legally registered civil union)</td><td>[7] Venstre, Danmarks Liberale Parti - Venstre        </td></tr>\n",
       "</tbody>\n",
       "</table>\n"
      ],
      "text/latex": [
       "A tibble: 6 × 18\n",
       "\\begin{tabular}{llllllllllllllllll}\n",
       " idno & ppltrst & polintr & vote & lrscale & happy & health & cgtsday & cgtsmke & alcfreq & brncntr & height & weight & gndr & yrbrn & edlvddk & marsts & polpartvt\\\\\n",
       " <dbl> & <chr> & <chr> & <chr> & <chr> & <chr> & <chr> & <dbl> & <chr> & <chr> & <chr> & <dbl> & <dbl> & <chr> & <dbl> & <chr> & <chr> & <chr>\\\\\n",
       "\\hline\n",
       "\t 921018 & 6 & Hardly interested & Not eligible to vote & 4 & 9 & Very good & 10 & I smoke but not every day       & 2-3 times a month    & Yes & 178 &  64 & Male   & 1990 & Folkeskole 6.-8. klasse                                                        & None of these (NEVER married or in legally registered civil union) & {[}NA{]} Not applicable                                   \\\\\n",
       "\t 921026 & 8 & Quite interested  & Yes                  & 4 & 8 & Very good & NA & I have never smoked             & Several times a week & Yes & 172 &  64 & Female & 1948 & Mellemlang videregående uddannelse af 3-4 års varighed. Professionsbachelorer, & Widowed/civil partner died                                         & {[}1{]} Socialdemokraterne - the Danish social democrats  \\\\\n",
       "\t 921034 & 8 & Quite interested  & Yes                  & 7 & 8 & Good      & NA & I don't smoke now but I used to & Every day            & Yes & 176 &  87 & Male   & 1957 & Kort videregående uddannelse af op til 2-3 års varighed, F.eks. Erhvervsakadem & Not applicable                                                     & {[}7{]} Venstre, Danmarks Liberale Parti - Venstre        \\\\\n",
       "\t 921181 & 9 & Quite interested  & Yes                  & 5 & 9 & Fair      & NA & I don't smoke now but I used to & Once a week          & Yes & 194 & 102 & Male   & 1956 & Faglig uddannelse (håndværk, handel, landbrug mv.), F.eks. Faglærte, Social-   & Not applicable                                                     & {[}2{]} Det Radikale Venstre - Danish Social-Liberal Party\\\\\n",
       "\t 921204 & 9 & Hardly interested & Yes                  & 7 & 8 & Good      & NA & I don't smoke now but I used to & Once a week          & No  & 157 &  48 & Female & 1941 & Kort videregående uddannelse af op til 2-3 års varighed, F.eks. Erhvervsakadem & Not applicable                                                     & {[}NA{]} Don't know                                       \\\\\n",
       "\t 921262 & 8 & Hardly interested & Yes                  & 7 & 8 & Very good & NA & I have never smoked             & 2-3 times a month    & Yes & 180 &  93 & Male   & 1987 & Mellemlang videregående uddannelse af 3-4 års varighed. Professionsbachelorer, & None of these (NEVER married or in legally registered civil union) & {[}7{]} Venstre, Danmarks Liberale Parti - Venstre        \\\\\n",
       "\\end{tabular}\n"
      ],
      "text/markdown": [
       "\n",
       "A tibble: 6 × 18\n",
       "\n",
       "| idno &lt;dbl&gt; | ppltrst &lt;chr&gt; | polintr &lt;chr&gt; | vote &lt;chr&gt; | lrscale &lt;chr&gt; | happy &lt;chr&gt; | health &lt;chr&gt; | cgtsday &lt;dbl&gt; | cgtsmke &lt;chr&gt; | alcfreq &lt;chr&gt; | brncntr &lt;chr&gt; | height &lt;dbl&gt; | weight &lt;dbl&gt; | gndr &lt;chr&gt; | yrbrn &lt;dbl&gt; | edlvddk &lt;chr&gt; | marsts &lt;chr&gt; | polpartvt &lt;chr&gt; |\n",
       "|---|---|---|---|---|---|---|---|---|---|---|---|---|---|---|---|---|---|\n",
       "| 921018 | 6 | Hardly interested | Not eligible to vote | 4 | 9 | Very good | 10 | I smoke but not every day       | 2-3 times a month    | Yes | 178 |  64 | Male   | 1990 | Folkeskole 6.-8. klasse                                                        | None of these (NEVER married or in legally registered civil union) | [NA] Not applicable                                    |\n",
       "| 921026 | 8 | Quite interested  | Yes                  | 4 | 8 | Very good | NA | I have never smoked             | Several times a week | Yes | 172 |  64 | Female | 1948 | Mellemlang videregående uddannelse af 3-4 års varighed. Professionsbachelorer, | Widowed/civil partner died                                         | [1] Socialdemokraterne - the Danish social democrats   |\n",
       "| 921034 | 8 | Quite interested  | Yes                  | 7 | 8 | Good      | NA | I don't smoke now but I used to | Every day            | Yes | 176 |  87 | Male   | 1957 | Kort videregående uddannelse af op til 2-3 års varighed, F.eks. Erhvervsakadem | Not applicable                                                     | [7] Venstre, Danmarks Liberale Parti - Venstre         |\n",
       "| 921181 | 9 | Quite interested  | Yes                  | 5 | 9 | Fair      | NA | I don't smoke now but I used to | Once a week          | Yes | 194 | 102 | Male   | 1956 | Faglig uddannelse (håndværk, handel, landbrug mv.), F.eks. Faglærte, Social-   | Not applicable                                                     | [2] Det Radikale Venstre - Danish Social-Liberal Party |\n",
       "| 921204 | 9 | Hardly interested | Yes                  | 7 | 8 | Good      | NA | I don't smoke now but I used to | Once a week          | No  | 157 |  48 | Female | 1941 | Kort videregående uddannelse af op til 2-3 års varighed, F.eks. Erhvervsakadem | Not applicable                                                     | [NA] Don't know                                        |\n",
       "| 921262 | 8 | Hardly interested | Yes                  | 7 | 8 | Very good | NA | I have never smoked             | 2-3 times a month    | Yes | 180 |  93 | Male   | 1987 | Mellemlang videregående uddannelse af 3-4 års varighed. Professionsbachelorer, | None of these (NEVER married or in legally registered civil union) | [7] Venstre, Danmarks Liberale Parti - Venstre         |\n",
       "\n"
      ],
      "text/plain": [
       "  idno   ppltrst polintr           vote                 lrscale happy health   \n",
       "1 921018 6       Hardly interested Not eligible to vote 4       9     Very good\n",
       "2 921026 8       Quite interested  Yes                  4       8     Very good\n",
       "3 921034 8       Quite interested  Yes                  7       8     Good     \n",
       "4 921181 9       Quite interested  Yes                  5       9     Fair     \n",
       "5 921204 9       Hardly interested Yes                  7       8     Good     \n",
       "6 921262 8       Hardly interested Yes                  7       8     Very good\n",
       "  cgtsday cgtsmke                         alcfreq              brncntr height\n",
       "1 10      I smoke but not every day       2-3 times a month    Yes     178   \n",
       "2 NA      I have never smoked             Several times a week Yes     172   \n",
       "3 NA      I don't smoke now but I used to Every day            Yes     176   \n",
       "4 NA      I don't smoke now but I used to Once a week          Yes     194   \n",
       "5 NA      I don't smoke now but I used to Once a week          No      157   \n",
       "6 NA      I have never smoked             2-3 times a month    Yes     180   \n",
       "  weight gndr   yrbrn\n",
       "1  64    Male   1990 \n",
       "2  64    Female 1948 \n",
       "3  87    Male   1957 \n",
       "4 102    Male   1956 \n",
       "5  48    Female 1941 \n",
       "6  93    Male   1987 \n",
       "  edlvddk                                                                       \n",
       "1 Folkeskole 6.-8. klasse                                                       \n",
       "2 Mellemlang videregående uddannelse af 3-4 års varighed. Professionsbachelorer,\n",
       "3 Kort videregående uddannelse af op til 2-3 års varighed, F.eks. Erhvervsakadem\n",
       "4 Faglig uddannelse (håndværk, handel, landbrug mv.), F.eks. Faglærte, Social-  \n",
       "5 Kort videregående uddannelse af op til 2-3 års varighed, F.eks. Erhvervsakadem\n",
       "6 Mellemlang videregående uddannelse af 3-4 års varighed. Professionsbachelorer,\n",
       "  marsts                                                            \n",
       "1 None of these (NEVER married or in legally registered civil union)\n",
       "2 Widowed/civil partner died                                        \n",
       "3 Not applicable                                                    \n",
       "4 Not applicable                                                    \n",
       "5 Not applicable                                                    \n",
       "6 None of these (NEVER married or in legally registered civil union)\n",
       "  polpartvt                                             \n",
       "1 [NA] Not applicable                                   \n",
       "2 [1] Socialdemokraterne - the Danish social democrats  \n",
       "3 [7] Venstre, Danmarks Liberale Parti - Venstre        \n",
       "4 [2] Det Radikale Venstre - Danish Social-Liberal Party\n",
       "5 [NA] Don't know                                       \n",
       "6 [7] Venstre, Danmarks Liberale Parti - Venstre        "
      ]
     },
     "metadata": {},
     "output_type": "display_data"
    }
   ],
   "source": [
    "head(ess_data)"
   ]
  },
  {
   "cell_type": "code",
   "execution_count": 28,
   "metadata": {},
   "outputs": [
    {
     "data": {
      "text/plain": [
       "      idno          ppltrst            polintr              vote          \n",
       " Min.   :921018   Length:751         Length:751         Length:751        \n",
       " 1st Qu.:928301   Class :character   Class :character   Class :character  \n",
       " Median :935845   Mode  :character   Mode  :character   Mode  :character  \n",
       " Mean   :935664                                                           \n",
       " 3rd Qu.:942857                                                           \n",
       " Max.   :950516                                                           \n",
       "                                                                          \n",
       "   lrscale             happy              health             cgtsday      \n",
       " Length:751         Length:751         Length:751         Min.   :  0.00  \n",
       " Class :character   Class :character   Class :character   1st Qu.:  5.00  \n",
       " Mode  :character   Mode  :character   Mode  :character   Median : 10.00  \n",
       "                                                          Mean   : 11.51  \n",
       "                                                          3rd Qu.: 17.00  \n",
       "                                                          Max.   :102.00  \n",
       "                                                          NA's   :578     \n",
       "   cgtsmke            alcfreq            brncntr              height     \n",
       " Length:751         Length:751         Length:751         Min.   :149.0  \n",
       " Class :character   Class :character   Class :character   1st Qu.:167.0  \n",
       " Mode  :character   Mode  :character   Mode  :character   Median :173.0  \n",
       "                                                          Mean   :173.6  \n",
       "                                                          3rd Qu.:180.0  \n",
       "                                                          Max.   :203.0  \n",
       "                                                          NA's   :3      \n",
       "     weight          gndr               yrbrn        edlvddk         \n",
       " Min.   : 42.0   Length:751         Min.   :1919   Length:751        \n",
       " 1st Qu.: 65.0   Class :character   1st Qu.:1951   Class :character  \n",
       " Median : 75.0   Mode  :character   Median :1965   Mode  :character  \n",
       " Mean   : 76.2                      Mean   :1966                     \n",
       " 3rd Qu.: 85.0                      3rd Qu.:1981                     \n",
       " Max.   :135.0                      Max.   :1999                     \n",
       " NA's   :11                                                          \n",
       "    marsts           polpartvt        \n",
       " Length:751         Length:751        \n",
       " Class :character   Class :character  \n",
       " Mode  :character   Mode  :character  \n",
       "                                      \n",
       "                                      \n",
       "                                      \n",
       "                                      "
      ]
     },
     "metadata": {},
     "output_type": "display_data"
    }
   ],
   "source": [
    "summary(ess_data)"
   ]
  },
  {
   "cell_type": "code",
   "execution_count": 29,
   "metadata": {},
   "outputs": [
    {
     "data": {
      "text/html": [
       "<ol class=list-inline>\n",
       "\t<li>'idno'</li>\n",
       "\t<li>'ppltrst'</li>\n",
       "\t<li>'polintr'</li>\n",
       "\t<li>'vote'</li>\n",
       "\t<li>'lrscale'</li>\n",
       "\t<li>'happy'</li>\n",
       "\t<li>'health'</li>\n",
       "\t<li>'cgtsday'</li>\n",
       "\t<li>'cgtsmke'</li>\n",
       "\t<li>'alcfreq'</li>\n",
       "\t<li>'brncntr'</li>\n",
       "\t<li>'height'</li>\n",
       "\t<li>'weight'</li>\n",
       "\t<li>'gndr'</li>\n",
       "\t<li>'yrbrn'</li>\n",
       "\t<li>'edlvddk'</li>\n",
       "\t<li>'marsts'</li>\n",
       "\t<li>'polpartvt'</li>\n",
       "</ol>\n"
      ],
      "text/latex": [
       "\\begin{enumerate*}\n",
       "\\item 'idno'\n",
       "\\item 'ppltrst'\n",
       "\\item 'polintr'\n",
       "\\item 'vote'\n",
       "\\item 'lrscale'\n",
       "\\item 'happy'\n",
       "\\item 'health'\n",
       "\\item 'cgtsday'\n",
       "\\item 'cgtsmke'\n",
       "\\item 'alcfreq'\n",
       "\\item 'brncntr'\n",
       "\\item 'height'\n",
       "\\item 'weight'\n",
       "\\item 'gndr'\n",
       "\\item 'yrbrn'\n",
       "\\item 'edlvddk'\n",
       "\\item 'marsts'\n",
       "\\item 'polpartvt'\n",
       "\\end{enumerate*}\n"
      ],
      "text/markdown": [
       "1. 'idno'\n",
       "2. 'ppltrst'\n",
       "3. 'polintr'\n",
       "4. 'vote'\n",
       "5. 'lrscale'\n",
       "6. 'happy'\n",
       "7. 'health'\n",
       "8. 'cgtsday'\n",
       "9. 'cgtsmke'\n",
       "10. 'alcfreq'\n",
       "11. 'brncntr'\n",
       "12. 'height'\n",
       "13. 'weight'\n",
       "14. 'gndr'\n",
       "15. 'yrbrn'\n",
       "16. 'edlvddk'\n",
       "17. 'marsts'\n",
       "18. 'polpartvt'\n",
       "\n",
       "\n"
      ],
      "text/plain": [
       " [1] \"idno\"      \"ppltrst\"   \"polintr\"   \"vote\"      \"lrscale\"   \"happy\"    \n",
       " [7] \"health\"    \"cgtsday\"   \"cgtsmke\"   \"alcfreq\"   \"brncntr\"   \"height\"   \n",
       "[13] \"weight\"    \"gndr\"      \"yrbrn\"     \"edlvddk\"   \"marsts\"    \"polpartvt\""
      ]
     },
     "metadata": {},
     "output_type": "display_data"
    }
   ],
   "source": [
    "colnames(ess_data)"
   ]
  },
  {
   "cell_type": "code",
   "execution_count": 30,
   "metadata": {},
   "outputs": [
    {
     "data": {
      "text/html": [
       "<ol class=list-inline>\n",
       "\t<li>'Male'</li>\n",
       "\t<li>'Female'</li>\n",
       "\t<li>'Male'</li>\n",
       "\t<li>'Male'</li>\n",
       "\t<li>'Female'</li>\n",
       "\t<li>'Male'</li>\n",
       "</ol>\n"
      ],
      "text/latex": [
       "\\begin{enumerate*}\n",
       "\\item 'Male'\n",
       "\\item 'Female'\n",
       "\\item 'Male'\n",
       "\\item 'Male'\n",
       "\\item 'Female'\n",
       "\\item 'Male'\n",
       "\\end{enumerate*}\n"
      ],
      "text/markdown": [
       "1. 'Male'\n",
       "2. 'Female'\n",
       "3. 'Male'\n",
       "4. 'Male'\n",
       "5. 'Female'\n",
       "6. 'Male'\n",
       "\n",
       "\n"
      ],
      "text/plain": [
       "[1] \"Male\"   \"Female\" \"Male\"   \"Male\"   \"Female\" \"Male\"  "
      ]
     },
     "metadata": {},
     "output_type": "display_data"
    }
   ],
   "source": [
    "head(ess_data$gndr)"
   ]
  },
  {
   "cell_type": "code",
   "execution_count": 31,
   "metadata": {},
   "outputs": [
    {
     "data": {
      "text/html": [
       "<table>\n",
       "<caption>A tibble: 5 × 2</caption>\n",
       "<thead>\n",
       "\t<tr><th scope=col>gndr</th><th scope=col>alcfreq</th></tr>\n",
       "\t<tr><th scope=col>&lt;chr&gt;</th><th scope=col>&lt;chr&gt;</th></tr>\n",
       "</thead>\n",
       "<tbody>\n",
       "\t<tr><td>Male  </td><td>2-3 times a month   </td></tr>\n",
       "\t<tr><td>Female</td><td>Several times a week</td></tr>\n",
       "\t<tr><td>Male  </td><td>Every day           </td></tr>\n",
       "\t<tr><td>Male  </td><td>Once a week         </td></tr>\n",
       "\t<tr><td>Female</td><td>Once a week         </td></tr>\n",
       "</tbody>\n",
       "</table>\n"
      ],
      "text/latex": [
       "A tibble: 5 × 2\n",
       "\\begin{tabular}{ll}\n",
       " gndr & alcfreq\\\\\n",
       " <chr> & <chr>\\\\\n",
       "\\hline\n",
       "\t Male   & 2-3 times a month   \\\\\n",
       "\t Female & Several times a week\\\\\n",
       "\t Male   & Every day           \\\\\n",
       "\t Male   & Once a week         \\\\\n",
       "\t Female & Once a week         \\\\\n",
       "\\end{tabular}\n"
      ],
      "text/markdown": [
       "\n",
       "A tibble: 5 × 2\n",
       "\n",
       "| gndr &lt;chr&gt; | alcfreq &lt;chr&gt; |\n",
       "|---|---|\n",
       "| Male   | 2-3 times a month    |\n",
       "| Female | Several times a week |\n",
       "| Male   | Every day            |\n",
       "| Male   | Once a week          |\n",
       "| Female | Once a week          |\n",
       "\n"
      ],
      "text/plain": [
       "  gndr   alcfreq             \n",
       "1 Male   2-3 times a month   \n",
       "2 Female Several times a week\n",
       "3 Male   Every day           \n",
       "4 Male   Once a week         \n",
       "5 Female Once a week         "
      ]
     },
     "metadata": {},
     "output_type": "display_data"
    }
   ],
   "source": [
    "ess_data[c(1:5), c(\"gndr\", \"alcfreq\")]"
   ]
  },
  {
   "cell_type": "code",
   "execution_count": 42,
   "metadata": {},
   "outputs": [
    {
     "data": {
      "text/html": [
       "<table>\n",
       "<caption>A tibble: 10 × 18</caption>\n",
       "<thead>\n",
       "\t<tr><th scope=col>idno</th><th scope=col>ppltrst</th><th scope=col>polintr</th><th scope=col>vote</th><th scope=col>lrscale</th><th scope=col>happy</th><th scope=col>health</th><th scope=col>cgtsday</th><th scope=col>cgtsmke</th><th scope=col>alcfreq</th><th scope=col>brncntr</th><th scope=col>height</th><th scope=col>weight</th><th scope=col>gndr</th><th scope=col>yrbrn</th><th scope=col>edlvddk</th><th scope=col>marsts</th><th scope=col>polpartvt</th></tr>\n",
       "\t<tr><th scope=col>&lt;dbl&gt;</th><th scope=col>&lt;chr&gt;</th><th scope=col>&lt;chr&gt;</th><th scope=col>&lt;chr&gt;</th><th scope=col>&lt;chr&gt;</th><th scope=col>&lt;chr&gt;</th><th scope=col>&lt;chr&gt;</th><th scope=col>&lt;dbl&gt;</th><th scope=col>&lt;chr&gt;</th><th scope=col>&lt;chr&gt;</th><th scope=col>&lt;chr&gt;</th><th scope=col>&lt;dbl&gt;</th><th scope=col>&lt;dbl&gt;</th><th scope=col>&lt;chr&gt;</th><th scope=col>&lt;dbl&gt;</th><th scope=col>&lt;chr&gt;</th><th scope=col>&lt;chr&gt;</th><th scope=col>&lt;chr&gt;</th></tr>\n",
       "</thead>\n",
       "<tbody>\n",
       "\t<tr><td>921018</td><td>6</td><td>Hardly interested</td><td>Not eligible to vote</td><td>4</td><td>9              </td><td>Very good</td><td>10</td><td>I smoke but not every day      </td><td>2-3 times a month   </td><td>Yes</td><td>  178</td><td> 64</td><td>Male  </td><td>1990</td><td>Folkeskole 6.-8. klasse                                                       </td><td>None of these (NEVER married or in legally registered civil union)</td><td>[NA] Not applicable                                   </td></tr>\n",
       "\t<tr><td>921026</td><td>8</td><td>Quite interested </td><td>Yes                 </td><td>4</td><td>8              </td><td>Very good</td><td>NA</td><td>I have never smoked            </td><td>Several times a week</td><td>Yes</td><td>  172</td><td> 64</td><td>Female</td><td>1948</td><td>Mellemlang videregående uddannelse af 3-4 års varighed. Professionsbachelorer,</td><td>Widowed/civil partner died                                        </td><td>[1] Socialdemokraterne - the Danish social democrats  </td></tr>\n",
       "\t<tr><td>921034</td><td>8</td><td>Quite interested </td><td>Yes                 </td><td>7</td><td>8              </td><td>Good     </td><td>NA</td><td>I don't smoke now but I used to</td><td>Every day           </td><td>Yes</td><td>  176</td><td> 87</td><td>Male  </td><td>1957</td><td>Kort videregående uddannelse af op til 2-3 års varighed, F.eks. Erhvervsakadem</td><td>Not applicable                                                    </td><td>[7] Venstre, Danmarks Liberale Parti - Venstre        </td></tr>\n",
       "\t<tr><td>921181</td><td>9</td><td>Quite interested </td><td>Yes                 </td><td>5</td><td>9              </td><td>Fair     </td><td>NA</td><td>I don't smoke now but I used to</td><td>Once a week         </td><td>Yes</td><td>99999</td><td>102</td><td>Male  </td><td>1956</td><td>Faglig uddannelse (håndværk, handel, landbrug mv.), F.eks. Faglærte, Social-  </td><td>Not applicable                                                    </td><td>[2] Det Radikale Venstre - Danish Social-Liberal Party</td></tr>\n",
       "\t<tr><td>921204</td><td>9</td><td>Hardly interested</td><td>Yes                 </td><td>7</td><td>8              </td><td>Good     </td><td>NA</td><td>I don't smoke now but I used to</td><td>Once a week         </td><td>No </td><td>  157</td><td> 48</td><td>Female</td><td>1941</td><td>Kort videregående uddannelse af op til 2-3 års varighed, F.eks. Erhvervsakadem</td><td>Not applicable                                                    </td><td>[NA] Don't know                                       </td></tr>\n",
       "\t<tr><td>921262</td><td>8</td><td>Hardly interested</td><td>Yes                 </td><td>7</td><td>8              </td><td>Very good</td><td>NA</td><td>I have never smoked            </td><td>2-3 times a month   </td><td>Yes</td><td>  180</td><td> 93</td><td>Male  </td><td>1987</td><td>Mellemlang videregående uddannelse af 3-4 års varighed. Professionsbachelorer,</td><td>None of these (NEVER married or in legally registered civil union)</td><td>[7] Venstre, Danmarks Liberale Parti - Venstre        </td></tr>\n",
       "\t<tr><td>921319</td><td>8</td><td>Very interested  </td><td>Not eligible to vote</td><td>8</td><td>Extremely happy</td><td>Fair     </td><td>10</td><td>I smoke daily                  </td><td>Once a week         </td><td>Yes</td><td>  185</td><td> 82</td><td>Male  </td><td>1997</td><td>Folkeskole 9.-10. klasse                                                      </td><td>None of these (NEVER married or in legally registered civil union)</td><td>[NA] Not applicable                                   </td></tr>\n",
       "\t<tr><td>921327</td><td>9</td><td>Quite interested </td><td>Yes                 </td><td>2</td><td>9              </td><td>Good     </td><td>NA</td><td>I don't smoke now but I used to</td><td>Once a week         </td><td>Yes</td><td>  182</td><td> 97</td><td>Male  </td><td>1940</td><td>Faglig uddannelse (håndværk, handel, landbrug mv.), F.eks. Faglærte, Social-  </td><td>Not applicable                                                    </td><td>[9] Enhedslisten - Unity List - The Red-Green Alliance</td></tr>\n",
       "\t<tr><td>921335</td><td>8</td><td>Hardly interested</td><td>Yes                 </td><td>9</td><td>9              </td><td>Good     </td><td>NA</td><td>I have never smoked            </td><td>Several times a week</td><td>Yes</td><td>  178</td><td> 84</td><td>Male  </td><td>1945</td><td>Faglig uddannelse (håndværk, handel, landbrug mv.), F.eks. Faglærte, Social-  </td><td>Not applicable                                                    </td><td>[10] Andet - other                                    </td></tr>\n",
       "\t<tr><td>921408</td><td>7</td><td>Quite interested </td><td>Yes                 </td><td>8</td><td>9              </td><td>Fair     </td><td> 1</td><td>I smoke but not every day      </td><td>Several times a week</td><td>Yes</td><td>99999</td><td>104</td><td>Male  </td><td>1977</td><td>Lang videregående uddannelse. Kandidatuddannelser af 5.-6. års varighed, F.eks</td><td>Not applicable                                                    </td><td>[7] Venstre, Danmarks Liberale Parti - Venstre        </td></tr>\n",
       "</tbody>\n",
       "</table>\n"
      ],
      "text/latex": [
       "A tibble: 10 × 18\n",
       "\\begin{tabular}{llllllllllllllllll}\n",
       " idno & ppltrst & polintr & vote & lrscale & happy & health & cgtsday & cgtsmke & alcfreq & brncntr & height & weight & gndr & yrbrn & edlvddk & marsts & polpartvt\\\\\n",
       " <dbl> & <chr> & <chr> & <chr> & <chr> & <chr> & <chr> & <dbl> & <chr> & <chr> & <chr> & <dbl> & <dbl> & <chr> & <dbl> & <chr> & <chr> & <chr>\\\\\n",
       "\\hline\n",
       "\t 921018 & 6 & Hardly interested & Not eligible to vote & 4 & 9               & Very good & 10 & I smoke but not every day       & 2-3 times a month    & Yes &   178 &  64 & Male   & 1990 & Folkeskole 6.-8. klasse                                                        & None of these (NEVER married or in legally registered civil union) & {[}NA{]} Not applicable                                   \\\\\n",
       "\t 921026 & 8 & Quite interested  & Yes                  & 4 & 8               & Very good & NA & I have never smoked             & Several times a week & Yes &   172 &  64 & Female & 1948 & Mellemlang videregående uddannelse af 3-4 års varighed. Professionsbachelorer, & Widowed/civil partner died                                         & {[}1{]} Socialdemokraterne - the Danish social democrats  \\\\\n",
       "\t 921034 & 8 & Quite interested  & Yes                  & 7 & 8               & Good      & NA & I don't smoke now but I used to & Every day            & Yes &   176 &  87 & Male   & 1957 & Kort videregående uddannelse af op til 2-3 års varighed, F.eks. Erhvervsakadem & Not applicable                                                     & {[}7{]} Venstre, Danmarks Liberale Parti - Venstre        \\\\\n",
       "\t 921181 & 9 & Quite interested  & Yes                  & 5 & 9               & Fair      & NA & I don't smoke now but I used to & Once a week          & Yes & 99999 & 102 & Male   & 1956 & Faglig uddannelse (håndværk, handel, landbrug mv.), F.eks. Faglærte, Social-   & Not applicable                                                     & {[}2{]} Det Radikale Venstre - Danish Social-Liberal Party\\\\\n",
       "\t 921204 & 9 & Hardly interested & Yes                  & 7 & 8               & Good      & NA & I don't smoke now but I used to & Once a week          & No  &   157 &  48 & Female & 1941 & Kort videregående uddannelse af op til 2-3 års varighed, F.eks. Erhvervsakadem & Not applicable                                                     & {[}NA{]} Don't know                                       \\\\\n",
       "\t 921262 & 8 & Hardly interested & Yes                  & 7 & 8               & Very good & NA & I have never smoked             & 2-3 times a month    & Yes &   180 &  93 & Male   & 1987 & Mellemlang videregående uddannelse af 3-4 års varighed. Professionsbachelorer, & None of these (NEVER married or in legally registered civil union) & {[}7{]} Venstre, Danmarks Liberale Parti - Venstre        \\\\\n",
       "\t 921319 & 8 & Very interested   & Not eligible to vote & 8 & Extremely happy & Fair      & 10 & I smoke daily                   & Once a week          & Yes &   185 &  82 & Male   & 1997 & Folkeskole 9.-10. klasse                                                       & None of these (NEVER married or in legally registered civil union) & {[}NA{]} Not applicable                                   \\\\\n",
       "\t 921327 & 9 & Quite interested  & Yes                  & 2 & 9               & Good      & NA & I don't smoke now but I used to & Once a week          & Yes &   182 &  97 & Male   & 1940 & Faglig uddannelse (håndværk, handel, landbrug mv.), F.eks. Faglærte, Social-   & Not applicable                                                     & {[}9{]} Enhedslisten - Unity List - The Red-Green Alliance\\\\\n",
       "\t 921335 & 8 & Hardly interested & Yes                  & 9 & 9               & Good      & NA & I have never smoked             & Several times a week & Yes &   178 &  84 & Male   & 1945 & Faglig uddannelse (håndværk, handel, landbrug mv.), F.eks. Faglærte, Social-   & Not applicable                                                     & {[}10{]} Andet - other                                    \\\\\n",
       "\t 921408 & 7 & Quite interested  & Yes                  & 8 & 9               & Fair      &  1 & I smoke but not every day       & Several times a week & Yes & 99999 & 104 & Male   & 1977 & Lang videregående uddannelse. Kandidatuddannelser af 5.-6. års varighed, F.eks & Not applicable                                                     & {[}7{]} Venstre, Danmarks Liberale Parti - Venstre        \\\\\n",
       "\\end{tabular}\n"
      ],
      "text/markdown": [
       "\n",
       "A tibble: 10 × 18\n",
       "\n",
       "| idno &lt;dbl&gt; | ppltrst &lt;chr&gt; | polintr &lt;chr&gt; | vote &lt;chr&gt; | lrscale &lt;chr&gt; | happy &lt;chr&gt; | health &lt;chr&gt; | cgtsday &lt;dbl&gt; | cgtsmke &lt;chr&gt; | alcfreq &lt;chr&gt; | brncntr &lt;chr&gt; | height &lt;dbl&gt; | weight &lt;dbl&gt; | gndr &lt;chr&gt; | yrbrn &lt;dbl&gt; | edlvddk &lt;chr&gt; | marsts &lt;chr&gt; | polpartvt &lt;chr&gt; |\n",
       "|---|---|---|---|---|---|---|---|---|---|---|---|---|---|---|---|---|---|\n",
       "| 921018 | 6 | Hardly interested | Not eligible to vote | 4 | 9               | Very good | 10 | I smoke but not every day       | 2-3 times a month    | Yes |   178 |  64 | Male   | 1990 | Folkeskole 6.-8. klasse                                                        | None of these (NEVER married or in legally registered civil union) | [NA] Not applicable                                    |\n",
       "| 921026 | 8 | Quite interested  | Yes                  | 4 | 8               | Very good | NA | I have never smoked             | Several times a week | Yes |   172 |  64 | Female | 1948 | Mellemlang videregående uddannelse af 3-4 års varighed. Professionsbachelorer, | Widowed/civil partner died                                         | [1] Socialdemokraterne - the Danish social democrats   |\n",
       "| 921034 | 8 | Quite interested  | Yes                  | 7 | 8               | Good      | NA | I don't smoke now but I used to | Every day            | Yes |   176 |  87 | Male   | 1957 | Kort videregående uddannelse af op til 2-3 års varighed, F.eks. Erhvervsakadem | Not applicable                                                     | [7] Venstre, Danmarks Liberale Parti - Venstre         |\n",
       "| 921181 | 9 | Quite interested  | Yes                  | 5 | 9               | Fair      | NA | I don't smoke now but I used to | Once a week          | Yes | 99999 | 102 | Male   | 1956 | Faglig uddannelse (håndværk, handel, landbrug mv.), F.eks. Faglærte, Social-   | Not applicable                                                     | [2] Det Radikale Venstre - Danish Social-Liberal Party |\n",
       "| 921204 | 9 | Hardly interested | Yes                  | 7 | 8               | Good      | NA | I don't smoke now but I used to | Once a week          | No  |   157 |  48 | Female | 1941 | Kort videregående uddannelse af op til 2-3 års varighed, F.eks. Erhvervsakadem | Not applicable                                                     | [NA] Don't know                                        |\n",
       "| 921262 | 8 | Hardly interested | Yes                  | 7 | 8               | Very good | NA | I have never smoked             | 2-3 times a month    | Yes |   180 |  93 | Male   | 1987 | Mellemlang videregående uddannelse af 3-4 års varighed. Professionsbachelorer, | None of these (NEVER married or in legally registered civil union) | [7] Venstre, Danmarks Liberale Parti - Venstre         |\n",
       "| 921319 | 8 | Very interested   | Not eligible to vote | 8 | Extremely happy | Fair      | 10 | I smoke daily                   | Once a week          | Yes |   185 |  82 | Male   | 1997 | Folkeskole 9.-10. klasse                                                       | None of these (NEVER married or in legally registered civil union) | [NA] Not applicable                                    |\n",
       "| 921327 | 9 | Quite interested  | Yes                  | 2 | 9               | Good      | NA | I don't smoke now but I used to | Once a week          | Yes |   182 |  97 | Male   | 1940 | Faglig uddannelse (håndværk, handel, landbrug mv.), F.eks. Faglærte, Social-   | Not applicable                                                     | [9] Enhedslisten - Unity List - The Red-Green Alliance |\n",
       "| 921335 | 8 | Hardly interested | Yes                  | 9 | 9               | Good      | NA | I have never smoked             | Several times a week | Yes |   178 |  84 | Male   | 1945 | Faglig uddannelse (håndværk, handel, landbrug mv.), F.eks. Faglærte, Social-   | Not applicable                                                     | [10] Andet - other                                     |\n",
       "| 921408 | 7 | Quite interested  | Yes                  | 8 | 9               | Fair      |  1 | I smoke but not every day       | Several times a week | Yes | 99999 | 104 | Male   | 1977 | Lang videregående uddannelse. Kandidatuddannelser af 5.-6. års varighed, F.eks | Not applicable                                                     | [7] Venstre, Danmarks Liberale Parti - Venstre         |\n",
       "\n"
      ],
      "text/plain": [
       "   idno   ppltrst polintr           vote                 lrscale\n",
       "1  921018 6       Hardly interested Not eligible to vote 4      \n",
       "2  921026 8       Quite interested  Yes                  4      \n",
       "3  921034 8       Quite interested  Yes                  7      \n",
       "4  921181 9       Quite interested  Yes                  5      \n",
       "5  921204 9       Hardly interested Yes                  7      \n",
       "6  921262 8       Hardly interested Yes                  7      \n",
       "7  921319 8       Very interested   Not eligible to vote 8      \n",
       "8  921327 9       Quite interested  Yes                  2      \n",
       "9  921335 8       Hardly interested Yes                  9      \n",
       "10 921408 7       Quite interested  Yes                  8      \n",
       "   happy           health    cgtsday cgtsmke                        \n",
       "1  9               Very good 10      I smoke but not every day      \n",
       "2  8               Very good NA      I have never smoked            \n",
       "3  8               Good      NA      I don't smoke now but I used to\n",
       "4  9               Fair      NA      I don't smoke now but I used to\n",
       "5  8               Good      NA      I don't smoke now but I used to\n",
       "6  8               Very good NA      I have never smoked            \n",
       "7  Extremely happy Fair      10      I smoke daily                  \n",
       "8  9               Good      NA      I don't smoke now but I used to\n",
       "9  9               Good      NA      I have never smoked            \n",
       "10 9               Fair       1      I smoke but not every day      \n",
       "   alcfreq              brncntr height weight gndr   yrbrn\n",
       "1  2-3 times a month    Yes       178   64    Male   1990 \n",
       "2  Several times a week Yes       172   64    Female 1948 \n",
       "3  Every day            Yes       176   87    Male   1957 \n",
       "4  Once a week          Yes     99999  102    Male   1956 \n",
       "5  Once a week          No        157   48    Female 1941 \n",
       "6  2-3 times a month    Yes       180   93    Male   1987 \n",
       "7  Once a week          Yes       185   82    Male   1997 \n",
       "8  Once a week          Yes       182   97    Male   1940 \n",
       "9  Several times a week Yes       178   84    Male   1945 \n",
       "10 Several times a week Yes     99999  104    Male   1977 \n",
       "   edlvddk                                                                       \n",
       "1  Folkeskole 6.-8. klasse                                                       \n",
       "2  Mellemlang videregående uddannelse af 3-4 års varighed. Professionsbachelorer,\n",
       "3  Kort videregående uddannelse af op til 2-3 års varighed, F.eks. Erhvervsakadem\n",
       "4  Faglig uddannelse (håndværk, handel, landbrug mv.), F.eks. Faglærte, Social-  \n",
       "5  Kort videregående uddannelse af op til 2-3 års varighed, F.eks. Erhvervsakadem\n",
       "6  Mellemlang videregående uddannelse af 3-4 års varighed. Professionsbachelorer,\n",
       "7  Folkeskole 9.-10. klasse                                                      \n",
       "8  Faglig uddannelse (håndværk, handel, landbrug mv.), F.eks. Faglærte, Social-  \n",
       "9  Faglig uddannelse (håndværk, handel, landbrug mv.), F.eks. Faglærte, Social-  \n",
       "10 Lang videregående uddannelse. Kandidatuddannelser af 5.-6. års varighed, F.eks\n",
       "   marsts                                                            \n",
       "1  None of these (NEVER married or in legally registered civil union)\n",
       "2  Widowed/civil partner died                                        \n",
       "3  Not applicable                                                    \n",
       "4  Not applicable                                                    \n",
       "5  Not applicable                                                    \n",
       "6  None of these (NEVER married or in legally registered civil union)\n",
       "7  None of these (NEVER married or in legally registered civil union)\n",
       "8  Not applicable                                                    \n",
       "9  Not applicable                                                    \n",
       "10 Not applicable                                                    \n",
       "   polpartvt                                             \n",
       "1  [NA] Not applicable                                   \n",
       "2  [1] Socialdemokraterne - the Danish social democrats  \n",
       "3  [7] Venstre, Danmarks Liberale Parti - Venstre        \n",
       "4  [2] Det Radikale Venstre - Danish Social-Liberal Party\n",
       "5  [NA] Don't know                                       \n",
       "6  [7] Venstre, Danmarks Liberale Parti - Venstre        \n",
       "7  [NA] Not applicable                                   \n",
       "8  [9] Enhedslisten - Unity List - The Red-Green Alliance\n",
       "9  [10] Andet - other                                    \n",
       "10 [7] Venstre, Danmarks Liberale Parti - Venstre        "
      ]
     },
     "metadata": {},
     "output_type": "display_data"
    }
   ],
   "source": [
    "# Basic R rekodning\n",
    "ess_snip <- head(ess_data, 100)\n",
    "\n",
    "ess_snip[which(ess_data$height > 190), \"height\"] <- 99999\n",
    "\n",
    "head(ess_snip, 10)"
   ]
  },
  {
   "cell_type": "code",
   "execution_count": null,
   "metadata": {},
   "outputs": [],
   "source": []
  }
 ],
 "metadata": {
  "celltoolbar": "Slideshow",
  "kernelspec": {
   "display_name": "R",
   "language": "R",
   "name": "ir"
  },
  "language_info": {
   "codemirror_mode": "r",
   "file_extension": ".r",
   "mimetype": "text/x-r-source",
   "name": "R",
   "pygments_lexer": "r",
   "version": "3.6.2"
  }
 },
 "nbformat": 4,
 "nbformat_minor": 2
}
