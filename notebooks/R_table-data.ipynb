{
 "cells": [
  {
   "cell_type": "markdown",
   "metadata": {
    "slideshow": {
     "slide_type": "slide"
    }
   },
   "source": [
    "# <center>WORKING WITH TABLE DATA WITH R</center>\n",
    "<img src=\"../elem/caldiss_symbol_square.png\" width=\"200\">\n",
    "\n",
    "\n",
    "<i><center>Kristian Gade Kjelmann</center></i>\n",
    "<i><center>March 5th 2020</center><i>"
   ]
  },
  {
   "cell_type": "markdown",
   "metadata": {},
   "source": [
    "## Disposition\n",
    "\n",
    "- Indlæs og udforsk tabeldata\n",
    "- Subsetting\n",
    "- Summary statistics\n",
    "- R til datahåndtering - dplyr/tidyverse\n",
    "    - Rekodningsbasics\n",
    "    - Filter og selekter\n",
    "- Numeriske variable\n",
    "- Tekst variable\n",
    "- Kategoriske variable"
   ]
  },
  {
   "cell_type": "code",
   "execution_count": 15,
   "metadata": {},
   "outputs": [],
   "source": [
    "library(haven)\n",
    "\n",
    "ess_data <- read_dta(\"https://github.com/CALDISS-AAU/workshop_r-table-data/raw/master/data/ess2014_mainsub_p1.dta\")"
   ]
  },
  {
   "cell_type": "code",
   "execution_count": 16,
   "metadata": {},
   "outputs": [
    {
     "data": {
      "text/html": [
       "<table>\n",
       "<caption>A tibble: 6 × 18</caption>\n",
       "<thead>\n",
       "\t<tr><th scope=col>idno</th><th scope=col>ppltrst</th><th scope=col>polintr</th><th scope=col>vote</th><th scope=col>lrscale</th><th scope=col>happy</th><th scope=col>health</th><th scope=col>cgtsday</th><th scope=col>cgtsmke</th><th scope=col>alcfreq</th><th scope=col>brncntr</th><th scope=col>height</th><th scope=col>weight</th><th scope=col>gndr</th><th scope=col>yrbrn</th><th scope=col>edlvddk</th><th scope=col>marsts</th><th scope=col>polpartvt</th></tr>\n",
       "\t<tr><th scope=col>&lt;dbl&gt;</th><th scope=col>&lt;dbl+lbl&gt;</th><th scope=col>&lt;dbl+lbl&gt;</th><th scope=col>&lt;dbl+lbl&gt;</th><th scope=col>&lt;dbl+lbl&gt;</th><th scope=col>&lt;dbl+lbl&gt;</th><th scope=col>&lt;dbl+lbl&gt;</th><th scope=col>&lt;dbl&gt;</th><th scope=col>&lt;dbl+lbl&gt;</th><th scope=col>&lt;dbl+lbl&gt;</th><th scope=col>&lt;dbl+lbl&gt;</th><th scope=col>&lt;dbl&gt;</th><th scope=col>&lt;dbl&gt;</th><th scope=col>&lt;dbl+lbl&gt;</th><th scope=col>&lt;dbl&gt;</th><th scope=col>&lt;dbl+lbl&gt;</th><th scope=col>&lt;dbl+lbl&gt;</th><th scope=col>&lt;chr&gt;</th></tr>\n",
       "</thead>\n",
       "<tbody>\n",
       "\t<tr><td>921018</td><td> 7</td><td>3</td><td>3</td><td>5</td><td>10</td><td>1</td><td>10</td><td>2</td><td>4</td><td>1</td><td>178</td><td> 64</td><td>1</td><td>1990</td><td>2</td><td>6</td><td>[NA] Not applicable                                   </td></tr>\n",
       "\t<tr><td>921026</td><td> 9</td><td>2</td><td>1</td><td>5</td><td> 9</td><td>1</td><td>NA</td><td>5</td><td>2</td><td>1</td><td>172</td><td> 64</td><td>2</td><td>1948</td><td>8</td><td>5</td><td>[1] Socialdemokraterne - the Danish social democrats  </td></tr>\n",
       "\t<tr><td>921034</td><td> 9</td><td>2</td><td>1</td><td>8</td><td> 9</td><td>2</td><td>NA</td><td>3</td><td>1</td><td>1</td><td>176</td><td> 87</td><td>1</td><td>1957</td><td>7</td><td>7</td><td>[7] Venstre, Danmarks Liberale Parti - Venstre        </td></tr>\n",
       "\t<tr><td>921181</td><td>10</td><td>2</td><td>1</td><td>6</td><td>10</td><td>3</td><td>NA</td><td>3</td><td>3</td><td>1</td><td>194</td><td>102</td><td>1</td><td>1956</td><td>6</td><td>7</td><td>[2] Det Radikale Venstre - Danish Social-Liberal Party</td></tr>\n",
       "\t<tr><td>921204</td><td>10</td><td>3</td><td>1</td><td>8</td><td> 9</td><td>2</td><td>NA</td><td>3</td><td>3</td><td>2</td><td>157</td><td> 48</td><td>2</td><td>1941</td><td>7</td><td>7</td><td>[NA] Don't know                                       </td></tr>\n",
       "\t<tr><td>921262</td><td> 9</td><td>3</td><td>1</td><td>8</td><td> 9</td><td>1</td><td>NA</td><td>5</td><td>4</td><td>1</td><td>180</td><td> 93</td><td>1</td><td>1987</td><td>8</td><td>6</td><td>[7] Venstre, Danmarks Liberale Parti - Venstre        </td></tr>\n",
       "</tbody>\n",
       "</table>\n"
      ],
      "text/latex": [
       "A tibble: 6 × 18\n",
       "\\begin{tabular}{llllllllllllllllll}\n",
       " idno & ppltrst & polintr & vote & lrscale & happy & health & cgtsday & cgtsmke & alcfreq & brncntr & height & weight & gndr & yrbrn & edlvddk & marsts & polpartvt\\\\\n",
       " <dbl> & <dbl+lbl> & <dbl+lbl> & <dbl+lbl> & <dbl+lbl> & <dbl+lbl> & <dbl+lbl> & <dbl> & <dbl+lbl> & <dbl+lbl> & <dbl+lbl> & <dbl> & <dbl> & <dbl+lbl> & <dbl> & <dbl+lbl> & <dbl+lbl> & <chr>\\\\\n",
       "\\hline\n",
       "\t 921018 &  7 & 3 & 3 & 5 & 10 & 1 & 10 & 2 & 4 & 1 & 178 &  64 & 1 & 1990 & 2 & 6 & {[}NA{]} Not applicable                                   \\\\\n",
       "\t 921026 &  9 & 2 & 1 & 5 &  9 & 1 & NA & 5 & 2 & 1 & 172 &  64 & 2 & 1948 & 8 & 5 & {[}1{]} Socialdemokraterne - the Danish social democrats  \\\\\n",
       "\t 921034 &  9 & 2 & 1 & 8 &  9 & 2 & NA & 3 & 1 & 1 & 176 &  87 & 1 & 1957 & 7 & 7 & {[}7{]} Venstre, Danmarks Liberale Parti - Venstre        \\\\\n",
       "\t 921181 & 10 & 2 & 1 & 6 & 10 & 3 & NA & 3 & 3 & 1 & 194 & 102 & 1 & 1956 & 6 & 7 & {[}2{]} Det Radikale Venstre - Danish Social-Liberal Party\\\\\n",
       "\t 921204 & 10 & 3 & 1 & 8 &  9 & 2 & NA & 3 & 3 & 2 & 157 &  48 & 2 & 1941 & 7 & 7 & {[}NA{]} Don't know                                       \\\\\n",
       "\t 921262 &  9 & 3 & 1 & 8 &  9 & 1 & NA & 5 & 4 & 1 & 180 &  93 & 1 & 1987 & 8 & 6 & {[}7{]} Venstre, Danmarks Liberale Parti - Venstre        \\\\\n",
       "\\end{tabular}\n"
      ],
      "text/markdown": [
       "\n",
       "A tibble: 6 × 18\n",
       "\n",
       "| idno &lt;dbl&gt; | ppltrst &lt;dbl+lbl&gt; | polintr &lt;dbl+lbl&gt; | vote &lt;dbl+lbl&gt; | lrscale &lt;dbl+lbl&gt; | happy &lt;dbl+lbl&gt; | health &lt;dbl+lbl&gt; | cgtsday &lt;dbl&gt; | cgtsmke &lt;dbl+lbl&gt; | alcfreq &lt;dbl+lbl&gt; | brncntr &lt;dbl+lbl&gt; | height &lt;dbl&gt; | weight &lt;dbl&gt; | gndr &lt;dbl+lbl&gt; | yrbrn &lt;dbl&gt; | edlvddk &lt;dbl+lbl&gt; | marsts &lt;dbl+lbl&gt; | polpartvt &lt;chr&gt; |\n",
       "|---|---|---|---|---|---|---|---|---|---|---|---|---|---|---|---|---|---|\n",
       "| 921018 |  7 | 3 | 3 | 5 | 10 | 1 | 10 | 2 | 4 | 1 | 178 |  64 | 1 | 1990 | 2 | 6 | [NA] Not applicable                                    |\n",
       "| 921026 |  9 | 2 | 1 | 5 |  9 | 1 | NA | 5 | 2 | 1 | 172 |  64 | 2 | 1948 | 8 | 5 | [1] Socialdemokraterne - the Danish social democrats   |\n",
       "| 921034 |  9 | 2 | 1 | 8 |  9 | 2 | NA | 3 | 1 | 1 | 176 |  87 | 1 | 1957 | 7 | 7 | [7] Venstre, Danmarks Liberale Parti - Venstre         |\n",
       "| 921181 | 10 | 2 | 1 | 6 | 10 | 3 | NA | 3 | 3 | 1 | 194 | 102 | 1 | 1956 | 6 | 7 | [2] Det Radikale Venstre - Danish Social-Liberal Party |\n",
       "| 921204 | 10 | 3 | 1 | 8 |  9 | 2 | NA | 3 | 3 | 2 | 157 |  48 | 2 | 1941 | 7 | 7 | [NA] Don't know                                        |\n",
       "| 921262 |  9 | 3 | 1 | 8 |  9 | 1 | NA | 5 | 4 | 1 | 180 |  93 | 1 | 1987 | 8 | 6 | [7] Venstre, Danmarks Liberale Parti - Venstre         |\n",
       "\n"
      ],
      "text/plain": [
       "  idno   ppltrst polintr vote lrscale happy health cgtsday cgtsmke alcfreq\n",
       "1 921018  7      3       3    5       10    1      10      2       4      \n",
       "2 921026  9      2       1    5        9    1      NA      5       2      \n",
       "3 921034  9      2       1    8        9    2      NA      3       1      \n",
       "4 921181 10      2       1    6       10    3      NA      3       3      \n",
       "5 921204 10      3       1    8        9    2      NA      3       3      \n",
       "6 921262  9      3       1    8        9    1      NA      5       4      \n",
       "  brncntr height weight gndr yrbrn edlvddk marsts\n",
       "1 1       178     64    1    1990  2       6     \n",
       "2 1       172     64    2    1948  8       5     \n",
       "3 1       176     87    1    1957  7       7     \n",
       "4 1       194    102    1    1956  6       7     \n",
       "5 2       157     48    2    1941  7       7     \n",
       "6 1       180     93    1    1987  8       6     \n",
       "  polpartvt                                             \n",
       "1 [NA] Not applicable                                   \n",
       "2 [1] Socialdemokraterne - the Danish social democrats  \n",
       "3 [7] Venstre, Danmarks Liberale Parti - Venstre        \n",
       "4 [2] Det Radikale Venstre - Danish Social-Liberal Party\n",
       "5 [NA] Don't know                                       \n",
       "6 [7] Venstre, Danmarks Liberale Parti - Venstre        "
      ]
     },
     "metadata": {},
     "output_type": "display_data"
    }
   ],
   "source": [
    "head(ess_data)"
   ]
  },
  {
   "cell_type": "code",
   "execution_count": 17,
   "metadata": {},
   "outputs": [
    {
     "data": {
      "text/plain": [
       "      idno           ppltrst          polintr           vote     \n",
       " Min.   :921018   Min.   : 1.000   Min.   :1.000   Min.   :1.00  \n",
       " 1st Qu.:928301   1st Qu.: 7.000   1st Qu.:2.000   1st Qu.:1.00  \n",
       " Median :935845   Median : 8.000   Median :2.000   Median :1.00  \n",
       " Mean   :935664   Mean   : 7.915   Mean   :2.136   Mean   :1.25  \n",
       " 3rd Qu.:942857   3rd Qu.: 9.000   3rd Qu.:3.000   3rd Qu.:1.00  \n",
       " Max.   :950516   Max.   :12.000   Max.   :5.000   Max.   :4.00  \n",
       "                                                                 \n",
       "    lrscale           happy            health        cgtsday      \n",
       " Min.   : 1.000   Min.   : 2.000   Min.   :1.00   Min.   :  0.00  \n",
       " 1st Qu.: 5.000   1st Qu.: 9.000   1st Qu.:1.00   1st Qu.:  5.00  \n",
       " Median : 7.000   Median : 9.000   Median :2.00   Median : 10.00  \n",
       " Mean   : 6.742   Mean   : 9.144   Mean   :1.94   Mean   : 11.51  \n",
       " 3rd Qu.: 9.000   3rd Qu.:10.000   3rd Qu.:3.00   3rd Qu.: 17.00  \n",
       " Max.   :14.000   Max.   :14.000   Max.   :5.00   Max.   :102.00  \n",
       "                                                  NA's   :578     \n",
       "    cgtsmke         alcfreq          brncntr          height     \n",
       " Min.   :1.000   Min.   : 1.000   Min.   :1.000   Min.   :149.0  \n",
       " 1st Qu.:3.000   1st Qu.: 2.000   1st Qu.:1.000   1st Qu.:167.0  \n",
       " Median :3.000   Median : 3.000   Median :1.000   Median :173.0  \n",
       " Mean   :3.358   Mean   : 3.605   Mean   :1.077   Mean   :173.6  \n",
       " 3rd Qu.:5.000   3rd Qu.: 5.000   3rd Qu.:1.000   3rd Qu.:180.0  \n",
       " Max.   :6.000   Max.   :10.000   Max.   :2.000   Max.   :203.0  \n",
       "                                                  NA's   :3      \n",
       "     weight           gndr          yrbrn         edlvddk      \n",
       " Min.   : 42.0   Min.   :1.00   Min.   :1919   Min.   : 1.000  \n",
       " 1st Qu.: 65.0   1st Qu.:1.00   1st Qu.:1951   1st Qu.: 4.000  \n",
       " Median : 75.0   Median :1.00   Median :1965   Median : 6.000  \n",
       " Mean   : 76.2   Mean   :1.47   Mean   :1966   Mean   : 6.204  \n",
       " 3rd Qu.: 85.0   3rd Qu.:2.00   3rd Qu.:1981   3rd Qu.: 8.000  \n",
       " Max.   :135.0   Max.   :2.00   Max.   :1999   Max.   :14.000  \n",
       " NA's   :11                                                    \n",
       "     marsts        polpartvt        \n",
       " Min.   : 1.000   Length:751        \n",
       " 1st Qu.: 6.000   Class :character  \n",
       " Median : 6.000   Mode  :character  \n",
       " Mean   : 6.144                     \n",
       " 3rd Qu.: 7.000                     \n",
       " Max.   :10.000                     \n",
       "                                    "
      ]
     },
     "metadata": {},
     "output_type": "display_data"
    }
   ],
   "source": [
    "summary(ess_data)"
   ]
  },
  {
   "cell_type": "code",
   "execution_count": 21,
   "metadata": {},
   "outputs": [
    {
     "data": {
      "text/html": [
       "<ol class=list-inline>\n",
       "\t<li>'idno'</li>\n",
       "\t<li>'ppltrst'</li>\n",
       "\t<li>'polintr'</li>\n",
       "\t<li>'vote'</li>\n",
       "\t<li>'lrscale'</li>\n",
       "\t<li>'happy'</li>\n",
       "\t<li>'health'</li>\n",
       "\t<li>'cgtsday'</li>\n",
       "\t<li>'cgtsmke'</li>\n",
       "\t<li>'alcfreq'</li>\n",
       "\t<li>'brncntr'</li>\n",
       "\t<li>'height'</li>\n",
       "\t<li>'weight'</li>\n",
       "\t<li>'gndr'</li>\n",
       "\t<li>'yrbrn'</li>\n",
       "\t<li>'edlvddk'</li>\n",
       "\t<li>'marsts'</li>\n",
       "\t<li>'polpartvt'</li>\n",
       "</ol>\n"
      ],
      "text/latex": [
       "\\begin{enumerate*}\n",
       "\\item 'idno'\n",
       "\\item 'ppltrst'\n",
       "\\item 'polintr'\n",
       "\\item 'vote'\n",
       "\\item 'lrscale'\n",
       "\\item 'happy'\n",
       "\\item 'health'\n",
       "\\item 'cgtsday'\n",
       "\\item 'cgtsmke'\n",
       "\\item 'alcfreq'\n",
       "\\item 'brncntr'\n",
       "\\item 'height'\n",
       "\\item 'weight'\n",
       "\\item 'gndr'\n",
       "\\item 'yrbrn'\n",
       "\\item 'edlvddk'\n",
       "\\item 'marsts'\n",
       "\\item 'polpartvt'\n",
       "\\end{enumerate*}\n"
      ],
      "text/markdown": [
       "1. 'idno'\n",
       "2. 'ppltrst'\n",
       "3. 'polintr'\n",
       "4. 'vote'\n",
       "5. 'lrscale'\n",
       "6. 'happy'\n",
       "7. 'health'\n",
       "8. 'cgtsday'\n",
       "9. 'cgtsmke'\n",
       "10. 'alcfreq'\n",
       "11. 'brncntr'\n",
       "12. 'height'\n",
       "13. 'weight'\n",
       "14. 'gndr'\n",
       "15. 'yrbrn'\n",
       "16. 'edlvddk'\n",
       "17. 'marsts'\n",
       "18. 'polpartvt'\n",
       "\n",
       "\n"
      ],
      "text/plain": [
       " [1] \"idno\"      \"ppltrst\"   \"polintr\"   \"vote\"      \"lrscale\"   \"happy\"    \n",
       " [7] \"health\"    \"cgtsday\"   \"cgtsmke\"   \"alcfreq\"   \"brncntr\"   \"height\"   \n",
       "[13] \"weight\"    \"gndr\"      \"yrbrn\"     \"edlvddk\"   \"marsts\"    \"polpartvt\""
      ]
     },
     "metadata": {},
     "output_type": "display_data"
    }
   ],
   "source": [
    "colnames(ess_data)"
   ]
  },
  {
   "cell_type": "code",
   "execution_count": 22,
   "metadata": {},
   "outputs": [
    {
     "data": {
      "text/plain": [
       "<Labelled double>\n",
       "[1] 1 2 1 1 2 1\n",
       "\n",
       "Labels:\n",
       " value     label\n",
       "     1      Male\n",
       "     2    Female\n",
       "     3 No answer"
      ]
     },
     "metadata": {},
     "output_type": "display_data"
    }
   ],
   "source": [
    "head(ess_data$gndr)"
   ]
  },
  {
   "cell_type": "code",
   "execution_count": 23,
   "metadata": {},
   "outputs": [
    {
     "data": {
      "text/html": [
       "<table>\n",
       "<caption>A tibble: 5 × 2</caption>\n",
       "<thead>\n",
       "\t<tr><th scope=col>gndr</th><th scope=col>alcfreq</th></tr>\n",
       "\t<tr><th scope=col>&lt;dbl+lbl&gt;</th><th scope=col>&lt;dbl+lbl&gt;</th></tr>\n",
       "</thead>\n",
       "<tbody>\n",
       "\t<tr><td>1</td><td>4</td></tr>\n",
       "\t<tr><td>2</td><td>2</td></tr>\n",
       "\t<tr><td>1</td><td>1</td></tr>\n",
       "\t<tr><td>1</td><td>3</td></tr>\n",
       "\t<tr><td>2</td><td>3</td></tr>\n",
       "</tbody>\n",
       "</table>\n"
      ],
      "text/latex": [
       "A tibble: 5 × 2\n",
       "\\begin{tabular}{ll}\n",
       " gndr & alcfreq\\\\\n",
       " <dbl+lbl> & <dbl+lbl>\\\\\n",
       "\\hline\n",
       "\t 1 & 4\\\\\n",
       "\t 2 & 2\\\\\n",
       "\t 1 & 1\\\\\n",
       "\t 1 & 3\\\\\n",
       "\t 2 & 3\\\\\n",
       "\\end{tabular}\n"
      ],
      "text/markdown": [
       "\n",
       "A tibble: 5 × 2\n",
       "\n",
       "| gndr &lt;dbl+lbl&gt; | alcfreq &lt;dbl+lbl&gt; |\n",
       "|---|---|\n",
       "| 1 | 4 |\n",
       "| 2 | 2 |\n",
       "| 1 | 1 |\n",
       "| 1 | 3 |\n",
       "| 2 | 3 |\n",
       "\n"
      ],
      "text/plain": [
       "  gndr alcfreq\n",
       "1 1    4      \n",
       "2 2    2      \n",
       "3 1    1      \n",
       "4 1    3      \n",
       "5 2    3      "
      ]
     },
     "metadata": {},
     "output_type": "display_data"
    }
   ],
   "source": [
    "ess_data[c(1:5), c(\"gndr\", \"alcfreq\")]"
   ]
  },
  {
   "cell_type": "code",
   "execution_count": null,
   "metadata": {},
   "outputs": [],
   "source": []
  }
 ],
 "metadata": {
  "celltoolbar": "Slideshow",
  "kernelspec": {
   "display_name": "R",
   "language": "R",
   "name": "ir"
  },
  "language_info": {
   "codemirror_mode": "r",
   "file_extension": ".r",
   "mimetype": "text/x-r-source",
   "name": "R",
   "pygments_lexer": "r",
   "version": "3.6.2"
  }
 },
 "nbformat": 4,
 "nbformat_minor": 2
}
