{
 "cells": [
  {
   "cell_type": "markdown",
   "metadata": {
    "slideshow": {
     "slide_type": "slide"
    }
   },
   "source": [
    "# <center>WORKING WITH TABLE DATA WITH R</center>\n",
    "<img src=\"../elem/caldiss_symbol_square.png\" width=\"200\">\n",
    "\n",
    "\n",
    "<i><center>Kristian Gade Kjelmann</center></i>\n",
    "<i><center>March 5th 2020</center><i>"
   ]
  },
  {
   "cell_type": "markdown",
   "metadata": {},
   "source": [
    "## Disposition\n",
    "\n",
    "- Indlæs og udforsk tabeldata\n",
    "- Subsetting\n",
    "- Summary statistics\n",
    "- R til datahåndtering - dplyr/tidyverse\n",
    "    - Rekodningsbasics\n",
    "    - Filter og selekter\n",
    "- Numeriske variable\n",
    "- Tekst variable\n",
    "- Kategoriske variable"
   ]
  },
  {
   "cell_type": "code",
   "execution_count": null,
   "metadata": {},
   "outputs": [],
   "source": []
  }
 ],
 "metadata": {
  "celltoolbar": "Slideshow",
  "kernelspec": {
   "display_name": "R",
   "language": "R",
   "name": "ir"
  },
  "language_info": {
   "codemirror_mode": "r",
   "file_extension": ".r",
   "mimetype": "text/x-r-source",
   "name": "R",
   "pygments_lexer": "r",
   "version": "3.6.2"
  }
 },
 "nbformat": 4,
 "nbformat_minor": 2
}
