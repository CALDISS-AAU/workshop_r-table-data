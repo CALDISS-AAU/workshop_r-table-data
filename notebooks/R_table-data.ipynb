{
 "cells": [
  {
   "cell_type": "markdown",
   "metadata": {
    "slideshow": {
     "slide_type": "slide"
    }
   },
   "source": [
    "# <center>WORKING WITH TABLE DATA WITH R</center>\n",
    "<img src=\"../elem/caldiss_symbol_square.png\" width=\"200\">\n",
    "\n",
    "\n",
    "<i><center>Kristian Gade Kjelmann</center></i>\n",
    "<i><center>March 5th 2020</center><i>"
   ]
  },
  {
   "cell_type": "markdown",
   "metadata": {},
   "source": [
    "# Reading and inspecting table data in R"
   ]
  },
  {
   "cell_type": "code",
   "execution_count": null,
   "metadata": {},
   "outputs": [],
   "source": [
    "library(readr)\n",
    "\n",
    "ess_data <- read_csv(\"https://github.com/CALDISS-AAU/workshop_r-table-data/raw/master/data/ess2014_mainsub_p1.csv\")"
   ]
  },
  {
   "cell_type": "code",
   "execution_count": null,
   "metadata": {},
   "outputs": [],
   "source": [
    "#First 6 rows of data\n",
    "head(ess_data)"
   ]
  },
  {
   "cell_type": "code",
   "execution_count": null,
   "metadata": {},
   "outputs": [],
   "source": [
    "#Summary statistics\n",
    "summary(ess_data)"
   ]
  },
  {
   "cell_type": "code",
   "execution_count": null,
   "metadata": {},
   "outputs": [],
   "source": [
    "#Names of variables (columns)\n",
    "colnames(ess_data)"
   ]
  },
  {
   "cell_type": "code",
   "execution_count": null,
   "metadata": {},
   "outputs": [],
   "source": [
    "#First six values of a variable (column)\n",
    "head(ess_data$gndr)"
   ]
  },
  {
   "cell_type": "code",
   "execution_count": null,
   "metadata": {},
   "outputs": [],
   "source": [
    "#The class of the variable\n",
    "class(ess_data$gndr)"
   ]
  },
  {
   "cell_type": "code",
   "execution_count": null,
   "metadata": {},
   "outputs": [],
   "source": [
    "#Basic R subsetting with index\n",
    "ess_data[c(1:5), c(\"gndr\", \"alcfreq\")]"
   ]
  },
  {
   "cell_type": "code",
   "execution_count": null,
   "metadata": {},
   "outputs": [],
   "source": [
    "#Basic R subsetting with logical\n",
    "ess_data[which(ess_data$height > 190), ] #Select respondents over 190 in cm"
   ]
  },
  {
   "cell_type": "markdown",
   "metadata": {},
   "source": [
    "## Datawrangling with dplyr\n",
    "\n",
    "Dplyr is incredibly useful for datawrangling for several reasons. It both provides a more concise syntax for writing command while providing quick and intuitive functions for selecting, arranging, filtering, merging and so on.\n",
    "\n",
    "Let's start by looking at some common datawrangling functions:\n",
    "- `select()`: Select subset of variables\n",
    "- `filter()`: Select subset of observations based on condition\n",
    "- `arrange()`: Order dataset by specific variable\n",
    "\n",
    "`dplyr` is a part of the `tidyverse` collection. It often makes sense to just load the entire `tidyverse` instead of just `dplyr`."
   ]
  },
  {
   "cell_type": "code",
   "execution_count": null,
   "metadata": {},
   "outputs": [],
   "source": [
    "library(tidyverse)"
   ]
  },
  {
   "cell_type": "markdown",
   "metadata": {},
   "source": [
    "### Select\n",
    "\n",
    "Select is used for selecting specific variables or reordering the variables"
   ]
  },
  {
   "cell_type": "code",
   "execution_count": null,
   "metadata": {},
   "outputs": [],
   "source": [
    "#Select specific columns\n",
    "ess_data %>%\n",
    "    select(idno, ppltrst, vote) %>%\n",
    "    head(4)"
   ]
  },
  {
   "cell_type": "code",
   "execution_count": null,
   "metadata": {},
   "outputs": [],
   "source": [
    "#Select all columns except ppltrst with '-'\n",
    "ess_data %>%\n",
    "    select(-ppltrst)"
   ]
  },
  {
   "cell_type": "code",
   "execution_count": null,
   "metadata": {},
   "outputs": [],
   "source": [
    "#Select all columns but with a specific column moved (yrbrn)\n",
    "ess_data %>%\n",
    "    select(yrbrn, everything())"
   ]
  },
  {
   "cell_type": "markdown",
   "metadata": {},
   "source": [
    "### Filter\n",
    "\n",
    "Filter is used to select observations based on a given condition. It is often easier to write and more intuitive to use that basic R subsetting/filtering"
   ]
  },
  {
   "cell_type": "code",
   "execution_count": null,
   "metadata": {},
   "outputs": [],
   "source": [
    "#Filter for a given condition\n",
    "ess_data %>%\n",
    "    filter(yrbrn > 1990)"
   ]
  },
  {
   "cell_type": "code",
   "execution_count": null,
   "metadata": {},
   "outputs": [],
   "source": [
    "#Filter for several conditions\n",
    "ess_data %>%\n",
    "    filter(yrbrn > 1990 & vote == \"Yes\")"
   ]
  },
  {
   "cell_type": "code",
   "execution_count": null,
   "metadata": {},
   "outputs": [],
   "source": [
    "#Filter for non-missing\n",
    "ess_data %>%\n",
    "    filter(is.na(cgtsday)==FALSE) #or !(is.na(cgtsday))"
   ]
  },
  {
   "cell_type": "code",
   "execution_count": null,
   "metadata": {},
   "outputs": [],
   "source": [
    "#Filter across variables - only observations with missing\n",
    "ess_data %>%\n",
    "    filter_all(any_vars(is.na(.)))"
   ]
  },
  {
   "cell_type": "code",
   "execution_count": null,
   "metadata": {},
   "outputs": [],
   "source": [
    "#Filter across variables - only complete observations\n",
    "ess_data %>%\n",
    "    filter_all(all_vars(is.na(.)==FALSE))"
   ]
  },
  {
   "cell_type": "code",
   "execution_count": null,
   "metadata": {},
   "outputs": [],
   "source": [
    "#Alternative (for missing)\n",
    "ess_data %>%\n",
    "    drop_na()"
   ]
  },
  {
   "cell_type": "markdown",
   "metadata": {},
   "source": [
    "### Arrange\n",
    "\n",
    "Arrange is used to sort the observations after one or several variables.\n",
    "\n",
    "Sorting/arranging have few practical applications in statistics but can be useful for inspecting or when working with time series data."
   ]
  },
  {
   "cell_type": "code",
   "execution_count": null,
   "metadata": {},
   "outputs": [],
   "source": [
    "#Sort ascending\n",
    "ess_data %>%\n",
    "    arrange(yrbrn)"
   ]
  },
  {
   "cell_type": "code",
   "execution_count": null,
   "metadata": {},
   "outputs": [],
   "source": [
    "#Sort descending using desc()\n",
    "ess_data %>%\n",
    "    arrange(desc(yrbrn))"
   ]
  },
  {
   "cell_type": "code",
   "execution_count": null,
   "metadata": {},
   "outputs": [],
   "source": [
    "#Sort by several\n",
    "ess_data %>%\n",
    "    arrange(desc(yrbrn), height)"
   ]
  },
  {
   "cell_type": "markdown",
   "metadata": {},
   "source": [
    "A note on missing and arrange: Missing are always placed last regardless of arranging ascending or descending."
   ]
  },
  {
   "cell_type": "markdown",
   "metadata": {},
   "source": [
    "### Wonders of the pipe\n",
    "\n",
    "The great thing about the pipe is that it makes the code to write a lot shorter.\n",
    "\n",
    "Instead of having to constantly specify the dataset, R will assume the data output from the previous line as the current line's input.\n",
    "\n",
    "This also means that commands can easily be chained:"
   ]
  },
  {
   "cell_type": "code",
   "execution_count": null,
   "metadata": {},
   "outputs": [],
   "source": [
    "#Chaining commands with pipe\n",
    "ess_data %>%\n",
    "    drop_na() %>%\n",
    "    filter(yrbrn > 1983) %>%\n",
    "    select(yrbrn, height, weight, gndr) %>%\n",
    "    arrange(desc(yrbrn), height) %>%\n",
    "    head(4)"
   ]
  },
  {
   "cell_type": "markdown",
   "metadata": {},
   "source": [
    "# EXERCISE 1\n",
    "\n",
    "Using the `dplyr` package and the functions `drop_na`, `filter` and `arrange`, subset the data to show the following:\n",
    "- Only complete observatinos (no missing)\n",
    "- Only people born before 1970\n",
    "- Showing the oldest and the ones smoking the most at the top of the dataset (`cgtsday`)"
   ]
  },
  {
   "cell_type": "markdown",
   "metadata": {},
   "source": [
    "# Rekodning\n",
    "\n",
    "Basic R recoding can quickly become a bit verbose as you have to specify the dataset several times and write out a longer condition."
   ]
  },
  {
   "cell_type": "code",
   "execution_count": null,
   "metadata": {},
   "outputs": [],
   "source": [
    "#Basic R recoding for numerical values\n",
    "ess_copy <- ess_data\n",
    "\n",
    "ess_copy[which(is.na(ess_data$cgtsday)), \"cgtsday\"] <- 999\n",
    "\n",
    "head(ess_copy, 4)"
   ]
  },
  {
   "cell_type": "code",
   "execution_count": null,
   "metadata": {},
   "outputs": [],
   "source": [
    "#Basic R recoding for text\n",
    "ess_copy <- ess_data\n",
    "\n",
    "ess_copy[which(ess_copy$alcfreq == \"Once a week\"), \"alcfreq\"] <- \"WEEKLY DRINKER\"\n",
    "\n",
    "head(ess_copy, 4)"
   ]
  },
  {
   "cell_type": "markdown",
   "metadata": {},
   "source": [
    "## New variables in R\n",
    "\n",
    "In base R, variables are created by refering to variables that do not already exist:"
   ]
  },
  {
   "cell_type": "code",
   "execution_count": null,
   "metadata": {},
   "outputs": [],
   "source": [
    "ess_data$bmi <- ess_data$weight / (ess_data$height/100)**2\n",
    "head(ess_data)"
   ]
  },
  {
   "cell_type": "markdown",
   "metadata": {},
   "source": [
    "## New variables with dplyr\n",
    "\n",
    "New variables can be created with dplyr using the function `mutate`. This function is both used for creating and manipulating/recoding variables. \n",
    "\n",
    "The advantage of `mutate` is that it can be used in a pipe:"
   ]
  },
  {
   "cell_type": "code",
   "execution_count": null,
   "metadata": {},
   "outputs": [],
   "source": [
    "#Creating bmi variable with mutate\n",
    "ess_data %>%\n",
    "    select(idno, weight, height, gndr, yrbrn) %>%\n",
    "    mutate(bmi = weight/(height/100)**2) %>%\n",
    "    head(4)"
   ]
  },
  {
   "cell_type": "markdown",
   "metadata": {},
   "source": [
    "Using `mutate` in combination with `if_else`, we can specify different values based on conditions."
   ]
  },
  {
   "cell_type": "code",
   "execution_count": null,
   "metadata": {},
   "outputs": [],
   "source": [
    "ess_data"
   ]
  },
  {
   "cell_type": "code",
   "execution_count": null,
   "metadata": {},
   "outputs": [],
   "source": [
    "#Creating smoker dummy with mutate and if_else\n",
    "library(dplyr)\n",
    "ess_data %>%\n",
    "    mutate(smoker = if_else(is.na(cgtsday), \"No\", \"Yes\")) %>%\n",
    "    head(4)"
   ]
  },
  {
   "cell_type": "markdown",
   "metadata": {},
   "source": [
    "It is also possible to create several variables in the same function call:"
   ]
  },
  {
   "cell_type": "code",
   "execution_count": null,
   "metadata": {},
   "outputs": [],
   "source": [
    "#Creating both smoker dummy and bmi\n",
    "ess_data %>%\n",
    "    mutate(smoker = if_else(is.na(cgtsday), \"No\", \"Yes\"),\n",
    "          bmi = weight/(height/100)**2) %>%\n",
    "    select(idno, gndr, bmi, cgtsday, smoker) %>%\n",
    "    head(4)"
   ]
  },
  {
   "cell_type": "markdown",
   "metadata": {},
   "source": [
    "Using `case_when` we can specify multiple conditions and create variables for each:"
   ]
  },
  {
   "cell_type": "code",
   "execution_count": null,
   "metadata": {},
   "outputs": [],
   "source": [
    "#Creating height_cat using case_when\n",
    "ess_data %>%\n",
    "    mutate(height_cat = case_when(\n",
    "        height >= 190 ~ \"tall\",\n",
    "        height < 177 ~ \"not tall\"\n",
    "    )) %>%\n",
    "    select(idno, height, gndr, height_cat) %>%\n",
    "    head(4)"
   ]
  },
  {
   "cell_type": "markdown",
   "metadata": {},
   "source": [
    "## Recoding with dplyr \n",
    "\n",
    "`dplyr` offers functions for recoding. There are three main functions:\n",
    "- `recode`: For recoding single values\n",
    "- `if_else`: For recoding based on logical\n",
    "- `case_when`: For recoding based on several logicals\n",
    "\n",
    "All these have to be combined with `mutate`."
   ]
  },
  {
   "cell_type": "code",
   "execution_count": null,
   "metadata": {},
   "outputs": [],
   "source": [
    "#Recoding alcfreq to two categories\n",
    "ess_data %>%\n",
    "    mutate(alcfreq = recode(alcfreq, \"Every day\" = \"DAILY DRINKER\", \"Once a week\" = \"WEEKLY DRINKER\"))"
   ]
  },
  {
   "cell_type": "markdown",
   "metadata": {},
   "source": [
    "Using the `.default` arguement, new values can be set for the values not specified."
   ]
  },
  {
   "cell_type": "code",
   "execution_count": null,
   "metadata": {},
   "outputs": [],
   "source": [
    "#Recoding alcfreq to three categories\n",
    "ess_data %>%\n",
    "    mutate(new_alcfreq = recode(alcfreq, \"Every day\" = \"DAILY DRINKER\", \"Once a week\" = \"WEEKLY DRINKER\", \n",
    "                            .default = \"IRRELEVANT\"))"
   ]
  },
  {
   "cell_type": "markdown",
   "metadata": {},
   "source": [
    "Use `if_else` when recoding based on a single logical condition."
   ]
  },
  {
   "cell_type": "code",
   "execution_count": null,
   "metadata": {},
   "outputs": [],
   "source": [
    "ess_data %>% #note that this code also recodes missing\n",
    "    mutate(health = if_else(health == \"Very good\", \"HEALTHY PERSON\", \"LESS HEALTHY PERSON\"))"
   ]
  },
  {
   "cell_type": "markdown",
   "metadata": {},
   "source": [
    "Use `case_when` when recoding based on several logicals."
   ]
  },
  {
   "cell_type": "code",
   "execution_count": null,
   "metadata": {},
   "outputs": [],
   "source": [
    "#Recoding health to healthy/unhealthy\n",
    "ess_data %>%\n",
    "    mutate(health = case_when(\n",
    "        health == \"Very good\" ~ \"healthy\", \n",
    "        health == \"Good\" ~ \"healthy\",\n",
    "        health == \"Bad\" ~ \"unhealthy\",\n",
    "        health == \"Very bad\" ~ \"unhealthy\", \n",
    "        TRUE ~ health)) #This line keeps remaining values as they are"
   ]
  },
  {
   "cell_type": "markdown",
   "metadata": {},
   "source": [
    "# EXERCISE 2\n",
    "\n",
    "1. Use `mutate` to create an age variable\n",
    "2. Use `mutate` and `case_when` to create a variable for whether or not the respondents drinks at least once a week"
   ]
  },
  {
   "cell_type": "markdown",
   "metadata": {},
   "source": [
    "# Categorical variables\n",
    "\n",
    "Categorical variables in R are typically stored as \"factors\".\n",
    "\n",
    "Unlike other statistical software solutions, R does not assign categorical variables an underlying numerical value. Values in a factor can therefore only be refered to by their category name!\n",
    "\n",
    "Factors can sometimes cause issues, as a standard setting for a lot of import functions in R is to import text variables as factors. This causes issues as you have little control over how they are converted to categorical variables.\n",
    "It often makes more sense to recode the variables as factors yourself.\n",
    "\n",
    "Factors are necessary in a lot of functions for creating graphs or statistical models."
   ]
  },
  {
   "cell_type": "code",
   "execution_count": null,
   "metadata": {},
   "outputs": [],
   "source": [
    "#Coerce as factor\n",
    "ess_data %>%\n",
    "    mutate(gndr = as.factor(gndr)) "
   ]
  },
  {
   "cell_type": "code",
   "execution_count": null,
   "metadata": {},
   "outputs": [],
   "source": [
    "#Isolating a factor\n",
    "gend_cat <- as.factor(ess_data$gndr)"
   ]
  },
  {
   "cell_type": "code",
   "execution_count": null,
   "metadata": {},
   "outputs": [],
   "source": [
    "#Inspecting values and levels\n",
    "unique(gend_cat)"
   ]
  },
  {
   "cell_type": "code",
   "execution_count": null,
   "metadata": {},
   "outputs": [],
   "source": [
    "#Create factor as ordered/ordinal (but what order?)\n",
    "gend_order <- factor(ess_data$gndr, ordered = TRUE)"
   ]
  },
  {
   "cell_type": "code",
   "execution_count": null,
   "metadata": {},
   "outputs": [],
   "source": [
    "#Inspecting values and levels\n",
    "unique(gend_order)"
   ]
  },
  {
   "cell_type": "code",
   "execution_count": null,
   "metadata": {},
   "outputs": [],
   "source": [
    "#Creating ordered factor but setting custom order\n",
    "polintr_fact <- factor(ess_data$polintr, levels = c('Not at all interested', 'Hardly interested',\n",
    "                                                    'Quite interested', 'Very interested'), ordered = TRUE)\n",
    "\n",
    "unique(polintr_fact)"
   ]
  },
  {
   "cell_type": "markdown",
   "metadata": {},
   "source": [
    "# Statistical models\n",
    "\n",
    "There are a lot of packages for creating statistical and there are packages for all kinds of specific analysis.\n",
    "\n",
    "A recurring element of a lot of these packages and functions however is to specify the model as a function.\n",
    "\n",
    "Formulas are specified as:\n",
    "- `y ~ x1 (+x2 +x3 ... +xn)`\n",
    "\n",
    "\n",
    "The code below created a linear model for age and weight:"
   ]
  },
  {
   "cell_type": "code",
   "execution_count": null,
   "metadata": {},
   "outputs": [],
   "source": [
    "#Linear model for weight and yrbrn\n",
    "lm(weight ~ yrbrn, ess_data)"
   ]
  },
  {
   "cell_type": "code",
   "execution_count": null,
   "metadata": {},
   "outputs": [],
   "source": [
    "#Multiple\n",
    "lm(bmi ~ weight + height, ess_data)"
   ]
  },
  {
   "cell_type": "markdown",
   "metadata": {},
   "source": [
    "An advantage of R is the ability to store the model as any other object making it easy to store and recall past results."
   ]
  },
  {
   "cell_type": "code",
   "execution_count": null,
   "metadata": {},
   "outputs": [],
   "source": [
    "#Storing model\n",
    "bmi_model <- lm(bmi ~ weight + height, ess_data)"
   ]
  },
  {
   "cell_type": "code",
   "execution_count": null,
   "metadata": {},
   "outputs": [],
   "source": [
    "#Summary statistics for bmi_model\n",
    "summary(bmi_model)"
   ]
  },
  {
   "cell_type": "markdown",
   "metadata": {},
   "source": [
    "## Models and categorical\n",
    "\n",
    "When working with categoricals in R, almost everything about how to treat that categorical in a model should be specified *before* creating the model.\n",
    "\n",
    "- Should the variable be treated as ordered (nominal) or unordered (ordinal)?\n",
    "- What value should be used as reference/base?\n",
    "- Is the ordinal variable to be used as an interval variable?\n"
   ]
  },
  {
   "cell_type": "code",
   "execution_count": null,
   "metadata": {},
   "outputs": [],
   "source": [
    "#Linear model with categorical (2 values)\n",
    "lm(height ~ yrbrn + gndr, ess_data)"
   ]
  },
  {
   "cell_type": "code",
   "execution_count": null,
   "metadata": {},
   "outputs": [],
   "source": [
    "#Linear model with ordinal\n",
    "ess_data$healthcat <- factor(ess_data$health, levels = c('Very bad', 'Bad', 'Fair', 'Good', 'Very good'), ordered = TRUE)\n",
    "\n",
    "summary(lm(height ~ yrbrn + healthcat, ess_data))"
   ]
  },
  {
   "cell_type": "code",
   "execution_count": null,
   "metadata": {},
   "outputs": [],
   "source": [
    "#Linear model with nominal (character as factor)\n",
    "summary(lm(height ~ yrbrn + health, ess_data))"
   ]
  },
  {
   "cell_type": "markdown",
   "metadata": {},
   "source": [
    "## Output a model"
   ]
  },
  {
   "cell_type": "code",
   "execution_count": null,
   "metadata": {},
   "outputs": [],
   "source": [
    "library(stargazer)"
   ]
  },
  {
   "cell_type": "code",
   "execution_count": null,
   "metadata": {},
   "outputs": [],
   "source": [
    "height_model <- lm(height ~ yrbrn + health, ess_data)\n",
    "stargazer(height_model, type = \"html\", out = \"../output/modelout.html\")"
   ]
  }
 ],
 "metadata": {
  "celltoolbar": "Slideshow",
  "kernelspec": {
   "display_name": "R",
   "language": "R",
   "name": "ir"
  },
  "language_info": {
   "codemirror_mode": "r",
   "file_extension": ".r",
   "mimetype": "text/x-r-source",
   "name": "R",
   "pygments_lexer": "r",
   "version": "3.6.1"
  }
 },
 "nbformat": 4,
 "nbformat_minor": 2
}
