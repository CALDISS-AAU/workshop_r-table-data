{
 "cells": [
  {
   "cell_type": "markdown",
   "metadata": {
    "slideshow": {
     "slide_type": "slide"
    }
   },
   "source": [
    "# <center>WORKING WITH TABLE DATA WITH R</center>\n",
    "<img src=\"../elem/caldiss_symbol_square.png\" width=\"200\">\n",
    "\n",
    "\n",
    "<i><center>Kristian Gade Kjelmann</center></i>\n",
    "<i><center>March 5th 2020</center><i>"
   ]
  },
  {
   "cell_type": "markdown",
   "metadata": {},
   "source": [
    "## Disposition\n",
    "\n",
    "- Indlæs og udforsk tabeldata\n",
    "- Subsetting\n",
    "- Summary statistics\n",
    "- R til datahåndtering - dplyr/tidyverse\n",
    "    - Rekodningsbasics\n",
    "    - Filter og selekter\n",
    "- Numeriske variable\n",
    "- Tekst variable\n",
    "- Kategoriske variable"
   ]
  },
  {
   "cell_type": "code",
   "execution_count": 1,
   "metadata": {},
   "outputs": [],
   "source": [
    "library(haven)\n",
    "\n",
    "ess_data <- read_dta(\"https://github.com/CALDISS-AAU/workshop_r-table-data/raw/master/data/ess2014_mainsub_p1.dta\", .name_repair = \"minimal\")"
   ]
  },
  {
   "cell_type": "code",
   "execution_count": 4,
   "metadata": {},
   "outputs": [
    {
     "ename": "ERROR",
     "evalue": "Error: `labels` must be unique\n",
     "output_type": "error",
     "traceback": [
      "Error: `labels` must be unique\nTraceback:\n",
      "1. head(ess_data)",
      "2. head.data.frame(ess_data)",
      "3. x[seq_len(n), , drop = FALSE]",
      "4. `[.tbl_df`(x, seq_len(n), , drop = FALSE)",
      "5. map(result, subset_rows, i)",
      "6. lapply(.x, .f, ...)",
      "7. FUN(X[[i]], ...)",
      "8. x[i]",
      "9. `[.haven_labelled`(x, i)",
      "10. labelled(NextMethod(), attr(x, \"labels\"), attr(x, \"label\", exact = TRUE))",
      "11. stop(\"`labels` must be unique\", call. = FALSE)"
     ]
    }
   ],
   "source": [
    "head(ess_data)"
   ]
  },
  {
   "cell_type": "code",
   "execution_count": null,
   "metadata": {},
   "outputs": [],
   "source": []
  }
 ],
 "metadata": {
  "celltoolbar": "Slideshow",
  "kernelspec": {
   "display_name": "R",
   "language": "R",
   "name": "ir"
  },
  "language_info": {
   "codemirror_mode": "r",
   "file_extension": ".r",
   "mimetype": "text/x-r-source",
   "name": "R",
   "pygments_lexer": "r",
   "version": "3.6.2"
  }
 },
 "nbformat": 4,
 "nbformat_minor": 2
}
