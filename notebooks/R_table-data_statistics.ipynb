{
 "cells": [
  {
   "cell_type": "markdown",
   "metadata": {},
   "source": [
    "# Descriptive\n",
    "\n",
    "- Summaries\n",
    "- Tables\n",
    "\n",
    "# Statistics\n",
    "\n",
    "- Models\n",
    "- Output (`stargazer`)"
   ]
  },
  {
   "cell_type": "markdown",
   "metadata": {},
   "source": [
    "# Summaries\n",
    "\n",
    "`group_by()`"
   ]
  },
  {
   "cell_type": "markdown",
   "metadata": {},
   "source": [
    "# Statistical models\n",
    "\n",
    "There are a lot of packages for creating statistical and there are packages for all kinds of specific analysis.\n",
    "\n",
    "A recurring element of a lot of these packages and functions however is to specify the model as a function.\n",
    "\n",
    "Formulas are specified as:\n",
    "- `y ~ x1 (+x2 +x3 ... +xn)`\n",
    "\n",
    "\n",
    "The code below created a linear model for age and weight:"
   ]
  },
  {
   "cell_type": "code",
   "execution_count": 60,
   "metadata": {},
   "outputs": [
    {
     "data": {
      "text/plain": [
       "\n",
       "Call:\n",
       "lm(formula = weight ~ yrbrn, data = ess_data)\n",
       "\n",
       "Coefficients:\n",
       "(Intercept)        yrbrn  \n",
       "   44.27414      0.01624  \n"
      ]
     },
     "metadata": {},
     "output_type": "display_data"
    }
   ],
   "source": [
    "#Linear model for weight and yrbrn\n",
    "lm(weight ~ yrbrn, ess_data)"
   ]
  },
  {
   "cell_type": "code",
   "execution_count": 62,
   "metadata": {},
   "outputs": [
    {
     "data": {
      "text/plain": [
       "\n",
       "Call:\n",
       "lm(formula = bmi ~ weight + height, data = ess_data)\n",
       "\n",
       "Coefficients:\n",
       "(Intercept)       weight       height  \n",
       "    50.1059       0.3318      -0.2889  \n"
      ]
     },
     "metadata": {},
     "output_type": "display_data"
    }
   ],
   "source": [
    "#Multiple\n",
    "lm(bmi ~ weight + height, ess_data)"
   ]
  },
  {
   "cell_type": "markdown",
   "metadata": {},
   "source": [
    "An advantage of R is the ability to store the model as any other object making it easy to store and recall past results."
   ]
  },
  {
   "cell_type": "code",
   "execution_count": 63,
   "metadata": {},
   "outputs": [],
   "source": [
    "#Storing model\n",
    "bmi_model <- lm(bmi ~ weight + height, ess_data)"
   ]
  },
  {
   "cell_type": "code",
   "execution_count": 64,
   "metadata": {},
   "outputs": [
    {
     "data": {
      "text/plain": [
       "\n",
       "Call:\n",
       "lm(formula = bmi ~ weight + height, data = ess_data)\n",
       "\n",
       "Residuals:\n",
       "    Min      1Q  Median      3Q     Max \n",
       "-3.1250 -0.1842  0.0199  0.1593  4.1995 \n",
       "\n",
       "Coefficients:\n",
       "             Estimate Std. Error t value Pr(>|t|)    \n",
       "(Intercept) 50.105861   0.341344   146.8   <2e-16 ***\n",
       "weight       0.331774   0.001376   241.2   <2e-16 ***\n",
       "height      -0.288922   0.002197  -131.5   <2e-16 ***\n",
       "---\n",
       "Signif. codes:  0 '***' 0.001 '**' 0.01 '*' 0.05 '.' 0.1 ' ' 1\n",
       "\n",
       "Residual standard error: 0.4993 on 737 degrees of freedom\n",
       "  (11 observations deleted due to missingness)\n",
       "Multiple R-squared:  0.9875,\tAdjusted R-squared:  0.9875 \n",
       "F-statistic: 2.915e+04 on 2 and 737 DF,  p-value: < 2.2e-16\n"
      ]
     },
     "metadata": {},
     "output_type": "display_data"
    }
   ],
   "source": [
    "#Summary statistics for bmi_model\n",
    "summary(bmi_model)"
   ]
  },
  {
   "cell_type": "markdown",
   "metadata": {},
   "source": [
    "## Models and categorical\n",
    "\n",
    "When working with categoricals in R, almost everything about how to treat that categorical in a model should be specified *before* creating the model.\n",
    "\n",
    "- Should the variable be treated as ordered (nominal) or unordered (ordinal)?\n",
    "- What value should be used as reference/base?\n",
    "- Is the ordinal variable to be used as an interval variable?\n"
   ]
  },
  {
   "cell_type": "code",
   "execution_count": 65,
   "metadata": {},
   "outputs": [
    {
     "data": {
      "text/plain": [
       "\n",
       "Call:\n",
       "lm(formula = height ~ yrbrn + gndr, data = ess_data)\n",
       "\n",
       "Coefficients:\n",
       "(Intercept)        yrbrn     gndrMale  \n",
       "   -50.2225       0.1104      12.7617  \n"
      ]
     },
     "metadata": {},
     "output_type": "display_data"
    }
   ],
   "source": [
    "#Linear model with categorical (2 values)\n",
    "lm(height ~ yrbrn + gndr, ess_data)"
   ]
  },
  {
   "cell_type": "code",
   "execution_count": 67,
   "metadata": {},
   "outputs": [
    {
     "data": {
      "text/plain": [
       "\n",
       "Call:\n",
       "lm(formula = height ~ yrbrn + healthcat, data = ess_data)\n",
       "\n",
       "Residuals:\n",
       "     Min       1Q   Median       3Q      Max \n",
       "-26.8004  -6.7797  -0.1917   6.4317  30.0358 \n",
       "\n",
       "Coefficients:\n",
       "             Estimate Std. Error t value Pr(>|t|)    \n",
       "(Intercept) -61.37901   36.03229  -1.703   0.0889 .  \n",
       "yrbrn         0.11893    0.01836   6.478 1.69e-10 ***\n",
       "healthcat.L   4.11147    2.31731   1.774   0.0764 .  \n",
       "healthcat.Q  -1.34712    1.99509  -0.675   0.4997    \n",
       "healthcat.C   2.02962    1.51963   1.336   0.1821    \n",
       "healthcat^4  -2.09098    1.03979  -2.011   0.0447 *  \n",
       "---\n",
       "Signif. codes:  0 '***' 0.001 '**' 0.01 '*' 0.05 '.' 0.1 ' ' 1\n",
       "\n",
       "Residual standard error: 9.311 on 742 degrees of freedom\n",
       "  (3 observations deleted due to missingness)\n",
       "Multiple R-squared:  0.07674,\tAdjusted R-squared:  0.07052 \n",
       "F-statistic: 12.34 on 5 and 742 DF,  p-value: 1.644e-11\n"
      ]
     },
     "metadata": {},
     "output_type": "display_data"
    }
   ],
   "source": [
    "#Linear model with ordinal\n",
    "ess_data$healthcat <- factor(ess_data$health, levels = c('Very bad', 'Bad', 'Fair', 'Good', 'Very good'), ordered = TRUE)\n",
    "\n",
    "summary(lm(height ~ yrbrn + healthcat, ess_data))"
   ]
  },
  {
   "cell_type": "code",
   "execution_count": 68,
   "metadata": {},
   "outputs": [
    {
     "data": {
      "text/plain": [
       "\n",
       "Call:\n",
       "lm(formula = height ~ yrbrn + health, data = ess_data)\n",
       "\n",
       "Residuals:\n",
       "     Min       1Q   Median       3Q      Max \n",
       "-26.8004  -6.7797  -0.1917   6.4317  30.0358 \n",
       "\n",
       "Coefficients:\n",
       "                 Estimate Std. Error t value Pr(>|t|)    \n",
       "(Intercept)     -60.03582   35.99289  -1.668   0.0957 .  \n",
       "yrbrn             0.11893    0.01836   6.478 1.69e-10 ***\n",
       "healthFair       -2.12265    1.69675  -1.251   0.2113    \n",
       "healthGood        0.03304    1.61819   0.020   0.9837    \n",
       "healthVery bad   -5.55532    3.82994  -1.450   0.1473    \n",
       "healthVery good   0.92896    1.61690   0.575   0.5658    \n",
       "---\n",
       "Signif. codes:  0 '***' 0.001 '**' 0.01 '*' 0.05 '.' 0.1 ' ' 1\n",
       "\n",
       "Residual standard error: 9.311 on 742 degrees of freedom\n",
       "  (3 observations deleted due to missingness)\n",
       "Multiple R-squared:  0.07674,\tAdjusted R-squared:  0.07052 \n",
       "F-statistic: 12.34 on 5 and 742 DF,  p-value: 1.644e-11\n"
      ]
     },
     "metadata": {},
     "output_type": "display_data"
    }
   ],
   "source": [
    "#Linear model with nominal (character as factor)\n",
    "summary(lm(height ~ yrbrn + health, ess_data))"
   ]
  },
  {
   "cell_type": "markdown",
   "metadata": {},
   "source": [
    "## Output a model"
   ]
  },
  {
   "cell_type": "code",
   "execution_count": 69,
   "metadata": {},
   "outputs": [
    {
     "name": "stderr",
     "output_type": "stream",
     "text": [
      "\n",
      "Please cite as: \n",
      "\n",
      "\n",
      " Hlavac, Marek (2018). stargazer: Well-Formatted Regression and Summary Statistics Tables.\n",
      "\n",
      " R package version 5.2.2. https://CRAN.R-project.org/package=stargazer \n",
      "\n",
      "\n"
     ]
    }
   ],
   "source": [
    "library(stargazer)"
   ]
  },
  {
   "cell_type": "code",
   "execution_count": 70,
   "metadata": {},
   "outputs": [
    {
     "name": "stdout",
     "output_type": "stream",
     "text": [
      "\n",
      "<table style=\"text-align:center\"><tr><td colspan=\"2\" style=\"border-bottom: 1px solid black\"></td></tr><tr><td style=\"text-align:left\"></td><td><em>Dependent variable:</em></td></tr>\n",
      "<tr><td></td><td colspan=\"1\" style=\"border-bottom: 1px solid black\"></td></tr>\n",
      "<tr><td style=\"text-align:left\"></td><td>height</td></tr>\n",
      "<tr><td colspan=\"2\" style=\"border-bottom: 1px solid black\"></td></tr><tr><td style=\"text-align:left\">yrbrn</td><td>0.119<sup>***</sup></td></tr>\n",
      "<tr><td style=\"text-align:left\"></td><td>(0.018)</td></tr>\n",
      "<tr><td style=\"text-align:left\"></td><td></td></tr>\n",
      "<tr><td style=\"text-align:left\">healthFair</td><td>-2.123</td></tr>\n",
      "<tr><td style=\"text-align:left\"></td><td>(1.697)</td></tr>\n",
      "<tr><td style=\"text-align:left\"></td><td></td></tr>\n",
      "<tr><td style=\"text-align:left\">healthGood</td><td>0.033</td></tr>\n",
      "<tr><td style=\"text-align:left\"></td><td>(1.618)</td></tr>\n",
      "<tr><td style=\"text-align:left\"></td><td></td></tr>\n",
      "<tr><td style=\"text-align:left\">healthVery bad</td><td>-5.555</td></tr>\n",
      "<tr><td style=\"text-align:left\"></td><td>(3.830)</td></tr>\n",
      "<tr><td style=\"text-align:left\"></td><td></td></tr>\n",
      "<tr><td style=\"text-align:left\">healthVery good</td><td>0.929</td></tr>\n",
      "<tr><td style=\"text-align:left\"></td><td>(1.617)</td></tr>\n",
      "<tr><td style=\"text-align:left\"></td><td></td></tr>\n",
      "<tr><td style=\"text-align:left\">Constant</td><td>-60.036<sup>*</sup></td></tr>\n",
      "<tr><td style=\"text-align:left\"></td><td>(35.993)</td></tr>\n",
      "<tr><td style=\"text-align:left\"></td><td></td></tr>\n",
      "<tr><td colspan=\"2\" style=\"border-bottom: 1px solid black\"></td></tr><tr><td style=\"text-align:left\">Observations</td><td>748</td></tr>\n",
      "<tr><td style=\"text-align:left\">R<sup>2</sup></td><td>0.077</td></tr>\n",
      "<tr><td style=\"text-align:left\">Adjusted R<sup>2</sup></td><td>0.071</td></tr>\n",
      "<tr><td style=\"text-align:left\">Residual Std. Error</td><td>9.311 (df = 742)</td></tr>\n",
      "<tr><td style=\"text-align:left\">F Statistic</td><td>12.335<sup>***</sup> (df = 5; 742)</td></tr>\n",
      "<tr><td colspan=\"2\" style=\"border-bottom: 1px solid black\"></td></tr><tr><td style=\"text-align:left\"><em>Note:</em></td><td style=\"text-align:right\"><sup>*</sup>p<0.1; <sup>**</sup>p<0.05; <sup>***</sup>p<0.01</td></tr>\n",
      "</table>\n"
     ]
    }
   ],
   "source": [
    "height_model <- lm(height ~ yrbrn + health, ess_data)\n",
    "stargazer(height_model, type = \"html\", out = \"../output/modelout.html\")"
   ]
  }
 ],
 "metadata": {
  "kernelspec": {
   "display_name": "R",
   "language": "R",
   "name": "ir"
  },
  "language_info": {
   "codemirror_mode": "r",
   "file_extension": ".r",
   "mimetype": "text/x-r-source",
   "name": "R",
   "pygments_lexer": "r",
   "version": "3.6.1"
  }
 },
 "nbformat": 4,
 "nbformat_minor": 2
}
