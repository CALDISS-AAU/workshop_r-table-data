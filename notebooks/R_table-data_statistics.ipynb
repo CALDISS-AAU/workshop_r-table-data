{
 "cells": [
  {
   "cell_type": "markdown",
   "metadata": {},
   "source": [
    "# Descriptive\n",
    "\n",
    "- Summaries\n",
    "- Tables\n",
    "\n",
    "# Statistics\n",
    "\n",
    "- Models\n",
    "- Output (`stargazer`)"
   ]
  }
 ],
 "metadata": {
  "kernelspec": {
   "display_name": "R",
   "language": "R",
   "name": "ir"
  },
  "language_info": {
   "codemirror_mode": "r",
   "file_extension": ".r",
   "mimetype": "text/x-r-source",
   "name": "R",
   "pygments_lexer": "r",
   "version": "3.6.2"
  }
 },
 "nbformat": 4,
 "nbformat_minor": 2
}
