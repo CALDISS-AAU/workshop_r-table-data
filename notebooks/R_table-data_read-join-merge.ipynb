{
 "cells": [
  {
   "cell_type": "markdown",
   "metadata": {},
   "source": [
    "# Reading data\n",
    "\n",
    "- Reading Stata\n",
    "- Reading Excel\n",
    "- Reading SAS\n",
    "- Reading SPSS\n",
    "\n",
    "\n",
    "# Joining data\n",
    "\n",
    "- joins\n",
    "- append\n",
    "\n",
    "\n",
    "# Pivoting data (long-wide)\n",
    "\n",
    "- Creating dummies"
   ]
  }
 ],
 "metadata": {
  "kernelspec": {
   "display_name": "R",
   "language": "R",
   "name": "ir"
  },
  "language_info": {
   "codemirror_mode": "r",
   "file_extension": ".r",
   "mimetype": "text/x-r-source",
   "name": "R",
   "pygments_lexer": "r",
   "version": "3.6.2"
  }
 },
 "nbformat": 4,
 "nbformat_minor": 2
}
