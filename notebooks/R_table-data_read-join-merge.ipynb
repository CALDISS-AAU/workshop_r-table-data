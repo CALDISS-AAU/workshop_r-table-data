{
 "cells": [
  {
   "cell_type": "markdown",
   "metadata": {},
   "source": [
    "# Reading data\n",
    "\n",
    "- Reading Stata\n",
    "- Reading Excel\n",
    "- Reading SAS\n",
    "- Reading SPSS\n",
    "\n",
    "\n",
    "# Joining data\n",
    "\n",
    "- joins\n",
    "- append\n",
    "\n",
    "\n",
    "# Pivoting data (long-wide)\n",
    "\n",
    "- Creating dummies"
   ]
  },
  {
   "cell_type": "code",
   "execution_count": 5,
   "metadata": {},
   "outputs": [
    {
     "name": "stderr",
     "output_type": "stream",
     "text": [
      "Warning message:\n",
      "\"package 'tidyr' was built under R version 3.6.2\"Parsed with column specification:\n",
      "cols(\n",
      "  .default = col_double(),\n",
      "  PNR = col_character(),\n",
      "  FOED_DAG = col_character()\n",
      ")\n",
      "See spec(...) for full column specifications.\n"
     ]
    }
   ],
   "source": [
    "library(readr)\n",
    "library(tidyr)\n",
    "reg_data <- read_csv(\"https://github.com/CALDISS-AAU/workshop_r-table-data/raw/master/data/bef_dream_2015.csv\")"
   ]
  },
  {
   "cell_type": "code",
   "execution_count": 4,
   "metadata": {},
   "outputs": [
    {
     "data": {
      "text/html": [
       "<table>\n",
       "<thead><tr><th scope=col>PNR</th><th scope=col>KOEN</th><th scope=col>FOED_DAG</th><th scope=col>br_2010_01</th><th scope=col>br_2010_02</th><th scope=col>br_2010_03</th><th scope=col>br_2010_04</th><th scope=col>br_2010_05</th><th scope=col>br_2010_06</th><th scope=col>br_2010_07</th><th scope=col>...</th><th scope=col>br_2015_03</th><th scope=col>br_2015_04</th><th scope=col>br_2015_05</th><th scope=col>br_2015_06</th><th scope=col>br_2015_07</th><th scope=col>br_2015_08</th><th scope=col>br_2015_09</th><th scope=col>br_2015_10</th><th scope=col>br_2015_11</th><th scope=col>br_2015_12</th></tr></thead>\n",
       "<tbody>\n",
       "\t<tr><td>00005532 </td><td>2        </td><td>23may1942</td><td>    NA   </td><td>    NA   </td><td>    NA   </td><td>    NA   </td><td>    NA   </td><td>    NA   </td><td>    NA   </td><td>...      </td><td>    NA   </td><td>    NA   </td><td>    NA   </td><td>    NA   </td><td>    NA   </td><td>    NA   </td><td>    NA   </td><td>    NA   </td><td>    NA   </td><td>    NA   </td></tr>\n",
       "\t<tr><td>00005562 </td><td>2        </td><td>28jun1971</td><td>    NA   </td><td>    NA   </td><td>    NA   </td><td>    NA   </td><td>    NA   </td><td>    NA   </td><td>    NA   </td><td>...      </td><td>    NA   </td><td>    NA   </td><td>    NA   </td><td>    NA   </td><td>    NA   </td><td>    NA   </td><td>    NA   </td><td>    NA   </td><td>    NA   </td><td>    NA   </td></tr>\n",
       "\t<tr><td>00007589 </td><td>1        </td><td>21jan1955</td><td>110200   </td><td>852010   </td><td>851000   </td><td>741010   </td><td>422200   </td><td>862100   </td><td>889920   </td><td>...      </td><td>463500   </td><td>910200   </td><td>429900   </td><td>581200   </td><td> 62000   </td><td>    NA   </td><td>464100   </td><td>390000   </td><td>855300   </td><td>771100   </td></tr>\n",
       "\t<tr><td>00009287 </td><td>1        </td><td>29aug1968</td><td>    NA   </td><td>    NA   </td><td>    NA   </td><td>    NA   </td><td>    NA   </td><td>    NA   </td><td>    NA   </td><td>...      </td><td>    NA   </td><td>    NA   </td><td>    NA   </td><td>    NA   </td><td>    NA   </td><td>    NA   </td><td>    NA   </td><td>    NA   </td><td>    NA   </td><td>    NA   </td></tr>\n",
       "\t<tr><td>00014523 </td><td>1        </td><td>08nov1957</td><td>881030   </td><td>    NA   </td><td>853110   </td><td>869020   </td><td>852010   </td><td>871020   </td><td>873010   </td><td>...      </td><td>522300   </td><td>431100   </td><td>873020   </td><td>856000   </td><td>    NA   </td><td>931100   </td><td>471130   </td><td>856000   </td><td>881020   </td><td>461710   </td></tr>\n",
       "\t<tr><td>00017543 </td><td>1        </td><td>24jun1952</td><td>869010   </td><td>105100   </td><td>889140   </td><td>    NA   </td><td>    NA   </td><td>910110   </td><td>464700   </td><td>...      </td><td>881010   </td><td>854200   </td><td>581410   </td><td>522990   </td><td>471120   </td><td>421300   </td><td>841100   </td><td>    NA   </td><td>851000   </td><td>855200   </td></tr>\n",
       "</tbody>\n",
       "</table>\n"
      ],
      "text/latex": [
       "\\begin{tabular}{r|lllllllllllllllllllllllllllllllllllllllllllllllllllllllllllllllllllllllllll}\n",
       " PNR & KOEN & FOED\\_DAG & br\\_2010\\_01 & br\\_2010\\_02 & br\\_2010\\_03 & br\\_2010\\_04 & br\\_2010\\_05 & br\\_2010\\_06 & br\\_2010\\_07 & ... & br\\_2015\\_03 & br\\_2015\\_04 & br\\_2015\\_05 & br\\_2015\\_06 & br\\_2015\\_07 & br\\_2015\\_08 & br\\_2015\\_09 & br\\_2015\\_10 & br\\_2015\\_11 & br\\_2015\\_12\\\\\n",
       "\\hline\n",
       "\t 00005532  & 2         & 23may1942 &     NA    &     NA    &     NA    &     NA    &     NA    &     NA    &     NA    & ...       &     NA    &     NA    &     NA    &     NA    &     NA    &     NA    &     NA    &     NA    &     NA    &     NA   \\\\\n",
       "\t 00005562  & 2         & 28jun1971 &     NA    &     NA    &     NA    &     NA    &     NA    &     NA    &     NA    & ...       &     NA    &     NA    &     NA    &     NA    &     NA    &     NA    &     NA    &     NA    &     NA    &     NA   \\\\\n",
       "\t 00007589  & 1         & 21jan1955 & 110200    & 852010    & 851000    & 741010    & 422200    & 862100    & 889920    & ...       & 463500    & 910200    & 429900    & 581200    &  62000    &     NA    & 464100    & 390000    & 855300    & 771100   \\\\\n",
       "\t 00009287  & 1         & 29aug1968 &     NA    &     NA    &     NA    &     NA    &     NA    &     NA    &     NA    & ...       &     NA    &     NA    &     NA    &     NA    &     NA    &     NA    &     NA    &     NA    &     NA    &     NA   \\\\\n",
       "\t 00014523  & 1         & 08nov1957 & 881030    &     NA    & 853110    & 869020    & 852010    & 871020    & 873010    & ...       & 522300    & 431100    & 873020    & 856000    &     NA    & 931100    & 471130    & 856000    & 881020    & 461710   \\\\\n",
       "\t 00017543  & 1         & 24jun1952 & 869010    & 105100    & 889140    &     NA    &     NA    & 910110    & 464700    & ...       & 881010    & 854200    & 581410    & 522990    & 471120    & 421300    & 841100    &     NA    & 851000    & 855200   \\\\\n",
       "\\end{tabular}\n"
      ],
      "text/markdown": [
       "\n",
       "| PNR | KOEN | FOED_DAG | br_2010_01 | br_2010_02 | br_2010_03 | br_2010_04 | br_2010_05 | br_2010_06 | br_2010_07 | ... | br_2015_03 | br_2015_04 | br_2015_05 | br_2015_06 | br_2015_07 | br_2015_08 | br_2015_09 | br_2015_10 | br_2015_11 | br_2015_12 |\n",
       "|---|---|---|---|---|---|---|---|---|---|---|---|---|---|---|---|---|---|---|---|---|\n",
       "| 00005532  | 2         | 23may1942 |     NA    |     NA    |     NA    |     NA    |     NA    |     NA    |     NA    | ...       |     NA    |     NA    |     NA    |     NA    |     NA    |     NA    |     NA    |     NA    |     NA    |     NA    |\n",
       "| 00005562  | 2         | 28jun1971 |     NA    |     NA    |     NA    |     NA    |     NA    |     NA    |     NA    | ...       |     NA    |     NA    |     NA    |     NA    |     NA    |     NA    |     NA    |     NA    |     NA    |     NA    |\n",
       "| 00007589  | 1         | 21jan1955 | 110200    | 852010    | 851000    | 741010    | 422200    | 862100    | 889920    | ...       | 463500    | 910200    | 429900    | 581200    |  62000    |     NA    | 464100    | 390000    | 855300    | 771100    |\n",
       "| 00009287  | 1         | 29aug1968 |     NA    |     NA    |     NA    |     NA    |     NA    |     NA    |     NA    | ...       |     NA    |     NA    |     NA    |     NA    |     NA    |     NA    |     NA    |     NA    |     NA    |     NA    |\n",
       "| 00014523  | 1         | 08nov1957 | 881030    |     NA    | 853110    | 869020    | 852010    | 871020    | 873010    | ...       | 522300    | 431100    | 873020    | 856000    |     NA    | 931100    | 471130    | 856000    | 881020    | 461710    |\n",
       "| 00017543  | 1         | 24jun1952 | 869010    | 105100    | 889140    |     NA    |     NA    | 910110    | 464700    | ...       | 881010    | 854200    | 581410    | 522990    | 471120    | 421300    | 841100    |     NA    | 851000    | 855200    |\n",
       "\n"
      ],
      "text/plain": [
       "  PNR      KOEN FOED_DAG  br_2010_01 br_2010_02 br_2010_03 br_2010_04\n",
       "1 00005532 2    23may1942     NA         NA         NA         NA    \n",
       "2 00005562 2    28jun1971     NA         NA         NA         NA    \n",
       "3 00007589 1    21jan1955 110200     852010     851000     741010    \n",
       "4 00009287 1    29aug1968     NA         NA         NA         NA    \n",
       "5 00014523 1    08nov1957 881030         NA     853110     869020    \n",
       "6 00017543 1    24jun1952 869010     105100     889140         NA    \n",
       "  br_2010_05 br_2010_06 br_2010_07 ... br_2015_03 br_2015_04 br_2015_05\n",
       "1     NA         NA         NA     ...     NA         NA         NA    \n",
       "2     NA         NA         NA     ...     NA         NA         NA    \n",
       "3 422200     862100     889920     ... 463500     910200     429900    \n",
       "4     NA         NA         NA     ...     NA         NA         NA    \n",
       "5 852010     871020     873010     ... 522300     431100     873020    \n",
       "6     NA     910110     464700     ... 881010     854200     581410    \n",
       "  br_2015_06 br_2015_07 br_2015_08 br_2015_09 br_2015_10 br_2015_11 br_2015_12\n",
       "1     NA         NA         NA         NA         NA         NA         NA    \n",
       "2     NA         NA         NA         NA         NA         NA         NA    \n",
       "3 581200      62000         NA     464100     390000     855300     771100    \n",
       "4     NA         NA         NA         NA         NA         NA         NA    \n",
       "5 856000         NA     931100     471130     856000     881020     461710    \n",
       "6 522990     471120     421300     841100         NA     851000     855200    "
      ]
     },
     "metadata": {},
     "output_type": "display_data"
    }
   ],
   "source": [
    "head(reg_data)"
   ]
  },
  {
   "cell_type": "code",
   "execution_count": 6,
   "metadata": {},
   "outputs": [],
   "source": [
    "reg_data_long <- reg_data %>%\n",
    "    pivot_longer(cols = starts_with(\"br_\"), names_to = \"month_year\", values_to = \"branche\")"
   ]
  },
  {
   "cell_type": "code",
   "execution_count": 8,
   "metadata": {},
   "outputs": [
    {
     "data": {
      "text/html": [
       "<table>\n",
       "<thead><tr><th scope=col>PNR</th><th scope=col>KOEN</th><th scope=col>FOED_DAG</th><th scope=col>month_year</th><th scope=col>branche</th></tr></thead>\n",
       "<tbody>\n",
       "\t<tr><td>00007589  </td><td>1         </td><td>21jan1955 </td><td>br_2010_01</td><td>110200    </td></tr>\n",
       "\t<tr><td>00007589  </td><td>1         </td><td>21jan1955 </td><td>br_2010_02</td><td>852010    </td></tr>\n",
       "\t<tr><td>00007589  </td><td>1         </td><td>21jan1955 </td><td>br_2010_03</td><td>851000    </td></tr>\n",
       "\t<tr><td>00007589  </td><td>1         </td><td>21jan1955 </td><td>br_2010_04</td><td>741010    </td></tr>\n",
       "\t<tr><td>00007589  </td><td>1         </td><td>21jan1955 </td><td>br_2010_05</td><td>422200    </td></tr>\n",
       "\t<tr><td>00007589  </td><td>1         </td><td>21jan1955 </td><td>br_2010_06</td><td>862100    </td></tr>\n",
       "</tbody>\n",
       "</table>\n"
      ],
      "text/latex": [
       "\\begin{tabular}{r|lllll}\n",
       " PNR & KOEN & FOED\\_DAG & month\\_year & branche\\\\\n",
       "\\hline\n",
       "\t 00007589       & 1              & 21jan1955      & br\\_2010\\_01 & 110200        \\\\\n",
       "\t 00007589       & 1              & 21jan1955      & br\\_2010\\_02 & 852010        \\\\\n",
       "\t 00007589       & 1              & 21jan1955      & br\\_2010\\_03 & 851000        \\\\\n",
       "\t 00007589       & 1              & 21jan1955      & br\\_2010\\_04 & 741010        \\\\\n",
       "\t 00007589       & 1              & 21jan1955      & br\\_2010\\_05 & 422200        \\\\\n",
       "\t 00007589       & 1              & 21jan1955      & br\\_2010\\_06 & 862100        \\\\\n",
       "\\end{tabular}\n"
      ],
      "text/markdown": [
       "\n",
       "| PNR | KOEN | FOED_DAG | month_year | branche |\n",
       "|---|---|---|---|---|\n",
       "| 00007589   | 1          | 21jan1955  | br_2010_01 | 110200     |\n",
       "| 00007589   | 1          | 21jan1955  | br_2010_02 | 852010     |\n",
       "| 00007589   | 1          | 21jan1955  | br_2010_03 | 851000     |\n",
       "| 00007589   | 1          | 21jan1955  | br_2010_04 | 741010     |\n",
       "| 00007589   | 1          | 21jan1955  | br_2010_05 | 422200     |\n",
       "| 00007589   | 1          | 21jan1955  | br_2010_06 | 862100     |\n",
       "\n"
      ],
      "text/plain": [
       "  PNR      KOEN FOED_DAG  month_year branche\n",
       "1 00007589 1    21jan1955 br_2010_01 110200 \n",
       "2 00007589 1    21jan1955 br_2010_02 852010 \n",
       "3 00007589 1    21jan1955 br_2010_03 851000 \n",
       "4 00007589 1    21jan1955 br_2010_04 741010 \n",
       "5 00007589 1    21jan1955 br_2010_05 422200 \n",
       "6 00007589 1    21jan1955 br_2010_06 862100 "
      ]
     },
     "metadata": {},
     "output_type": "display_data"
    }
   ],
   "source": [
    "head(drop_na(reg_data_long))"
   ]
  }
 ],
 "metadata": {
  "kernelspec": {
   "display_name": "R",
   "language": "R",
   "name": "ir"
  },
  "language_info": {
   "codemirror_mode": "r",
   "file_extension": ".r",
   "mimetype": "text/x-r-source",
   "name": "R",
   "pygments_lexer": "r",
   "version": "3.6.1"
  }
 },
 "nbformat": 4,
 "nbformat_minor": 2
}
