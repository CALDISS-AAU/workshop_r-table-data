{
 "cells": [
  {
   "cell_type": "markdown",
   "metadata": {
    "slideshow": {
     "slide_type": "slide"
    }
   },
   "source": [
    "# <center>WORKING WITH TABLE DATA WITH R - REFRESHER</center>\n",
    "<img src=\"../elem/caldiss_symbol_square.png\" width=\"200\">\n",
    "\n",
    "\n",
    "<i><center>Kristian Gade Kjelmann</center></i>\n",
    "<i><center>August 20th 2020</center><i>"
   ]
  },
  {
   "cell_type": "markdown",
   "metadata": {},
   "source": [
    "# How to work with the R language\n",
    "\n",
    "Working with R means to work with objects and functions. \n",
    "\n",
    "*Objects* are containers of information and can be pretty much anything.\n",
    "\n",
    "An object is always of a certain *class*, denoting the type of information the object contains (a numerical value, a string/text value, a dataset, a list of values/vector etc.).\n",
    "\n",
    "*Functions* are used to manipulate objects and produce output. Functions consist of *arguements*"
   ]
  },
  {
   "cell_type": "markdown",
   "metadata": {},
   "source": [
    "**Assign objects**\n",
    "\n",
    "Assign objects using `<-`."
   ]
  },
  {
   "cell_type": "code",
   "execution_count": 1,
   "metadata": {},
   "outputs": [],
   "source": [
    "a_number <- 42     # assign the number '42' to object 'a_number'\n",
    "a_word <- \"hello\"  # assign the word 'hello' to object 'a_word'"
   ]
  },
  {
   "cell_type": "markdown",
   "metadata": {},
   "source": [
    "**Using a function**\n",
    "\n",
    "Functions are used by writing the function name with the arguements in `()`. Additional arguements are separated by `,`. "
   ]
  },
  {
   "cell_type": "code",
   "execution_count": 4,
   "metadata": {},
   "outputs": [
    {
     "data": {
      "text/html": [
       "'HELLO'"
      ],
      "text/latex": [
       "'HELLO'"
      ],
      "text/markdown": [
       "'HELLO'"
      ],
      "text/plain": [
       "[1] \"HELLO\""
      ]
     },
     "metadata": {},
     "output_type": "display_data"
    }
   ],
   "source": [
    "toupper(a_word)"
   ]
  },
  {
   "cell_type": "markdown",
   "metadata": {},
   "source": [
    "Functions do not change an object. The output of a function has to be stored in a new or the same object to be stored:"
   ]
  },
  {
   "cell_type": "code",
   "execution_count": 5,
   "metadata": {},
   "outputs": [
    {
     "name": "stdout",
     "output_type": "stream",
     "text": [
      "[1] \"hello\"\n"
     ]
    }
   ],
   "source": [
    "print(a_word)"
   ]
  },
  {
   "cell_type": "code",
   "execution_count": 6,
   "metadata": {},
   "outputs": [
    {
     "name": "stdout",
     "output_type": "stream",
     "text": [
      "[1] \"HELLO\"\n"
     ]
    }
   ],
   "source": [
    "another_word = toupper(a_word)\n",
    "print(another_word)"
   ]
  },
  {
   "cell_type": "markdown",
   "metadata": {},
   "source": [
    "**Check class**\n",
    "\n",
    "The class of an object can be checked using the function `class()`."
   ]
  },
  {
   "cell_type": "code",
   "execution_count": 2,
   "metadata": {},
   "outputs": [
    {
     "data": {
      "text/html": [
       "'numeric'"
      ],
      "text/latex": [
       "'numeric'"
      ],
      "text/markdown": [
       "'numeric'"
      ],
      "text/plain": [
       "[1] \"numeric\""
      ]
     },
     "metadata": {},
     "output_type": "display_data"
    },
    {
     "data": {
      "text/html": [
       "'character'"
      ],
      "text/latex": [
       "'character'"
      ],
      "text/markdown": [
       "'character'"
      ],
      "text/plain": [
       "[1] \"character\""
      ]
     },
     "metadata": {},
     "output_type": "display_data"
    }
   ],
   "source": [
    "class(a_number)    # what class is a_number?\n",
    "class(a_word)      # what class is a_word?"
   ]
  },
  {
   "cell_type": "markdown",
   "metadata": {},
   "source": [
    "If an object is stored as an incorrect class (like a number stored as text) it can be changed using a function like `as.numeric()`:"
   ]
  },
  {
   "cell_type": "code",
   "execution_count": 7,
   "metadata": {},
   "outputs": [
    {
     "data": {
      "text/html": [
       "'character'"
      ],
      "text/latex": [
       "'character'"
      ],
      "text/markdown": [
       "'character'"
      ],
      "text/plain": [
       "[1] \"character\""
      ]
     },
     "metadata": {},
     "output_type": "display_data"
    },
    {
     "data": {
      "text/html": [
       "'numeric'"
      ],
      "text/latex": [
       "'numeric'"
      ],
      "text/markdown": [
       "'numeric'"
      ],
      "text/plain": [
       "[1] \"numeric\""
      ]
     },
     "metadata": {},
     "output_type": "display_data"
    }
   ],
   "source": [
    "another_number <- \"42\" \n",
    "class(another_number)   # 'another_number' is a character class (text)\n",
    "\n",
    "another_number <- as.numeric(another_number)\n",
    "class(another_number)   # 'another_number' is now a numeric class"
   ]
  },
  {
   "cell_type": "markdown",
   "metadata": {},
   "source": [
    "**Logical/boolean values**\n",
    "\n",
    "An often occuring type of object class in R is the logical class. A logical is either `TRUE` or `FALSE`."
   ]
  },
  {
   "cell_type": "markdown",
   "metadata": {},
   "source": [
    "**NA**\n",
    "\n",
    "`NA` is the R equivalent of a missing value."
   ]
  },
  {
   "cell_type": "markdown",
   "metadata": {},
   "source": [
    "# Data structures in R\n",
    "\n",
    "- Vectors\n",
    "\n",
    "- Data frames"
   ]
  },
  {
   "cell_type": "markdown",
   "metadata": {},
   "source": [
    "# Packages\n",
    "\n",
    "- Installing \n",
    "- Loading"
   ]
  },
  {
   "cell_type": "markdown",
   "metadata": {},
   "source": [
    "# (Re-)Introducing tidyverse\n",
    "\n",
    "- `readr`\n",
    "- `dplyr`\n",
    "- `lubridate`\n",
    "- `stringr`\n",
    "- etc."
   ]
  },
  {
   "cell_type": "markdown",
   "metadata": {},
   "source": [
    "# Reading and inspecting data in R\n",
    "\n",
    "- `read_csv`\n",
    "- `head()`\n",
    "- `summary()`\n",
    "- `colnames()`\n",
    "- Subsetting"
   ]
  },
  {
   "cell_type": "markdown",
   "metadata": {},
   "source": [
    "# Datawrangling with dplyr\n",
    "\n",
    "- `select()`\n",
    "- `filter()`\n",
    "- `arrange()`\n",
    "- `drop_na()`\n",
    "- Using the pipe `%>%`\n",
    "- `mutate()` (recoding and new variables) \n",
    "    - `recode()` (single values)\n",
    "    - `if_else()` (logicals)\n",
    "    - `case_when()` (several logicals)"
   ]
  },
  {
   "cell_type": "markdown",
   "metadata": {},
   "source": [
    "# Categorical variables in R (factors)"
   ]
  },
  {
   "cell_type": "markdown",
   "metadata": {},
   "source": [
    "# Refresher exercise\n",
    "\n",
    "- Read data\n",
    "- Inspect data\n",
    "- Create an age variable\n",
    "- Create a smoker dummy variable\n",
    "- Create a subset: Smokers over 40"
   ]
  },
  {
   "cell_type": "code",
   "execution_count": null,
   "metadata": {},
   "outputs": [],
   "source": []
  }
 ],
 "metadata": {
  "kernelspec": {
   "display_name": "R",
   "language": "R",
   "name": "ir"
  },
  "language_info": {
   "codemirror_mode": "r",
   "file_extension": ".r",
   "mimetype": "text/x-r-source",
   "name": "R",
   "pygments_lexer": "r",
   "version": "3.6.2"
  }
 },
 "nbformat": 4,
 "nbformat_minor": 2
}
